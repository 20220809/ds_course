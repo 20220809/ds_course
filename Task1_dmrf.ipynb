{
 "cells": [
  {
   "cell_type": "markdown",
   "metadata": {
    "collapsed": false,
    "pycharm": {
     "name": "#%% md\n"
    }
   },
   "source": [
    "# Задание\n",
    "* Собрать информацию о всех строящихся объектах на сайте \"наш.дом.рф\"\n",
    "* Cохранить ее в pandas dataframe\n",
    "* Cохранить pandas dataframe в excel\n",
    "* Cохранить pandas dataframe в pickle\n",
    "* Cохранить pandas dataframe в БД\n",
    "\n",
    "# Задание *\n",
    "* Написать скрипт, который скачивает фотографии всех строящихся объектов с сайта \"наш.дом.рф\"\n"
   ]
  },
  {
   "cell_type": "code",
   "execution_count": 93,
   "metadata": {
    "collapsed": false,
    "pycharm": {
     "name": "#%%\n"
    }
   },
   "outputs": [],
   "source": [
    "import requests\n",
    "import pandas as pd"
   ]
  },
  {
   "cell_type": "markdown",
   "metadata": {
    "collapsed": false,
    "pycharm": {
     "name": "#%% md\n"
    }
   },
   "source": [
    "## Список объектов"
   ]
  },
  {
   "cell_type": "code",
   "execution_count": null,
   "metadata": {
    "collapsed": false,
    "pycharm": {
     "name": "#%%\n"
    }
   },
   "outputs": [],
   "source": [
    "#начальное смещение\n",
    "offset_ = 0\n",
    "\n",
    "#кол-во записей для загрузки за один запрос\n",
    "limit_ = 1000\n",
    "\n",
    "res = []\n",
    "#загружаем частями все объекты\n",
    "while 1==1: \n",
    "    url = f'https://xn--80az8a.xn--d1aqf.xn--p1ai/%D1%81%D0%B5%D1%80%D0%B2%D0%B8%D1%81%D1%8B/api/kn/object?offset={offset_}&limit={limit_}&sortField=devId.devShortCleanNm&sortType=asc&objStatus=0'\n",
    "    temp = requests.get(url).json().get('data').get('list')\n",
    "    if len(temp) :        \n",
    "        res.append(temp)\n",
    "        offset_ += limit_\n",
    "    else:\n",
    "        print('loaded : ' + str(offset_) + ' records')\n",
    "        break\n"
   ]
  },
  {
   "cell_type": "code",
   "execution_count": 66,
   "metadata": {},
   "outputs": [],
   "source": [
    "# собираем DataFrame списка json\n",
    "df = pd.concat([ pd.json_normalize(x) for x in res ] , ignore_index= True )"
   ]
  },
  {
   "cell_type": "code",
   "execution_count": null,
   "metadata": {},
   "outputs": [],
   "source": [
    "# проверим что результирующий DataFrame содержит все загруженные записи\n",
    "df.shape[0]"
   ]
  },
  {
   "cell_type": "code",
   "execution_count": 90,
   "metadata": {},
   "outputs": [],
   "source": [
    "#выгрузим в excel\n",
    "df.to_excel('./house_data.xlsx')\n",
    "\n",
    "#выгрузим в pickle\n",
    "df.to_pickle('./house_data.pkl')"
   ]
  },
  {
   "cell_type": "code",
   "execution_count": null,
   "metadata": {},
   "outputs": [],
   "source": [
    "#выгрузим в БД\n",
    "import sqlite3\n",
    "\n",
    "#создаем базу\n",
    "conn = sqlite3.connect('sample.db')\n",
    "#выгружаем данные в таблицу house_data\n",
    "df.to_sql('house_data', conn , if_exists='replace')\n",
    "\n",
    "conn.commit()\n",
    "conn.close()\n"
   ]
  },
  {
   "cell_type": "markdown",
   "metadata": {
    "collapsed": false,
    "pycharm": {
     "name": "#%% md\n"
    }
   },
   "source": [
    "# Сохранение фото по списку объектов с сайта нащ.дом.рф"
   ]
  },
  {
   "cell_type": "code",
   "execution_count": 357,
   "metadata": {},
   "outputs": [],
   "source": [
    "#количество объектов для которых необходимо сохранить все фото\n",
    "OBJ_CNT = 3\n",
    "#путь для сохранения фото\n",
    "SAVE_PATH = './'"
   ]
  },
  {
   "cell_type": "code",
   "execution_count": 385,
   "metadata": {},
   "outputs": [],
   "source": [
    "#функция которая по заданному id объекта сохраняет сохраняет страницу с информацией о фотографиях\n",
    "def get_page ( obj_id ):\n",
    "    obj_url= 'https://xn--80az8a.xn--d1aqf.xn--p1ai/%D1%81%D0%B5%D1%80%D0%B2%D0%B8%D1%81%D1%8B/%D0%BA%D0%B0%D1%82%D0%B0%D0%BB%D0%BE%D0%B3-%D0%BD%D0%BE%D0%B2%D0%BE%D1%81%D1%82%D1%80%D0%BE%D0%B5%D0%BA/%D0%BE%D0%B1%D1%8A%D0%B5%D0%BA%D1%82/' + str(obj_id)\n",
    "    obj_js = 'https://xn--80az8a.xn--d1aqf.xn--p1ai/%D1%81%D0%B5%D1%80%D0%B2%D0%B8%D1%81%D1%8B/_next/static/chunks/commons.46eca9a97646c7a3d9cf.js'\n",
    "    header = {\n",
    "    'user_agent': 'Mozilla/5.0 (X11; Linux x86_64) AppleWebKit/537.36 (KHTML, like Gecko) Chrome/94.0.4606.71 Safari/537.36'\n",
    "    }\n",
    "    session = requests.Session()\n",
    "\n",
    "    getpage1 = session.get(obj_url, headers=header)\n",
    "    postrequest = session.post(obj_js, headers=header)\n",
    "    getpage2 = session.get(obj_url, headers=header)\n",
    "    session.close()\n",
    "    return ( getpage2 )"
   ]
  },
  {
   "cell_type": "code",
   "execution_count": 384,
   "metadata": {},
   "outputs": [],
   "source": [
    "from bs4 import BeautifulSoup as bs\n",
    "import json\n",
    "#функция которая по странице с информацией о фото возвращает список [ (id, путь, имя)]\n",
    "def photo_base(loaded_page):\n",
    "    #распарсим html для удобства извлечения необходимого элемента\n",
    "    page_parsed = bs(loaded_page.text, 'html.parser') \n",
    "    #сохраняем в json формат елемент в котором находится список с фото\n",
    "    fmt_json =  page_parsed.find_all(id=\"__NEXT_DATA__\")[0].contents[0]\n",
    "    res_dict = json.loads(fmt_json) \n",
    "\n",
    "    # сохранение списка фото\n",
    "    photo_list = res_dict.\\\n",
    "                        get('props').\\\n",
    "                        get('initialState').\\\n",
    "                        get('kn').\\\n",
    "                        get('objectCard').\\\n",
    "                        get('constructionProgress').\\\n",
    "                        get('shortInfo')\n",
    "    \n",
    "    # формируем кортеж с путями и именми файлов\n",
    "    res = []\n",
    "    for i in photo_list:\n",
    "        res.append((i.get('objId'),i.get('src'),i.get('filename')))\n",
    "    \n",
    "    return res"
   ]
  },
  {
   "cell_type": "code",
   "execution_count": null,
   "metadata": {},
   "outputs": [],
   "source": [
    "#вспомогательная функция для поиска нужной иерархии \n",
    "def expand_js(js_dict, s ):\n",
    "    s += '\\t'\n",
    "    if (type(js_dict) == dict):\n",
    "        for i in js_dict:\n",
    "            print(s,end='')\n",
    "            print(i)\n",
    "            expand_js(js_dict.get(str(i)),s)\n",
    "    else:\n",
    "        print(s + str(js_dict))\n",
    "\n",
    "#поиск нахождения списка с фото\n",
    "expand_js(res_dict,'')"
   ]
  },
  {
   "cell_type": "code",
   "execution_count": 362,
   "metadata": {},
   "outputs": [],
   "source": [
    "import wget"
   ]
  },
  {
   "cell_type": "code",
   "execution_count": 371,
   "metadata": {},
   "outputs": [],
   "source": [
    "#функция сохранения фотографий по переданному списку\n",
    "def photo_save ( photo_lst, path = SAVE_PATH ):\n",
    "    cnt = 1\n",
    "    photo_arr = []\n",
    "    for i in photo_lst:\n",
    "        source = i[1]\n",
    "        dest = path + str(cnt) + '_' + str(i[2])\n",
    "        file_name = str(cnt) + '_' + str(i[2])\n",
    "        wget.download(source, dest) \n",
    "        photo_arr.append([i[0],path,file_name])\n",
    "        cnt += 1\n",
    "    return photo_arr"
   ]
  },
  {
   "cell_type": "code",
   "execution_count": 372,
   "metadata": {},
   "outputs": [],
   "source": [
    "#список id объектов по которым сохраним фото\n",
    "catalog = pd.read_pickle('house_data.pkl')\n",
    "objs = list(catalog['objId'].head(OBJ_CNT))"
   ]
  },
  {
   "cell_type": "code",
   "execution_count": 386,
   "metadata": {},
   "outputs": [],
   "source": [
    "result = []\n",
    "for id in objs:\n",
    "    curr_page = get_page(id)\n",
    "    photo_list = photo_base(curr_page)\n",
    "    result += photo_save(photo_list , './photo/')\n"
   ]
  },
  {
   "cell_type": "code",
   "execution_count": 389,
   "metadata": {},
   "outputs": [],
   "source": [
    "#сохраним датафрейм с объектами и информацией о расположении фото\n",
    "df = pd.DataFrame(result, columns=['obj_id','path','file'])\n",
    "df.to_excel('photo_list.xlsx')"
   ]
  }
 ],
 "metadata": {
  "kernelspec": {
   "display_name": "Python 3.10.4 ('venv_1': venv)",
   "language": "python",
   "name": "python3"
  },
  "language_info": {
   "codemirror_mode": {
    "name": "ipython",
    "version": 3
   },
   "file_extension": ".py",
   "mimetype": "text/x-python",
   "name": "python",
   "nbconvert_exporter": "python",
   "pygments_lexer": "ipython3",
   "version": "3.10.4"
  },
  "vscode": {
   "interpreter": {
    "hash": "d5f85a8dd2723370e4550bb2ae52c34f28fde135fbd4fb722213a1bea8849ece"
   }
  }
 },
 "nbformat": 4,
 "nbformat_minor": 0
}
