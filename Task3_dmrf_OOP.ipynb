{
 "cells": [
  {
   "cell_type": "markdown",
   "metadata": {
    "collapsed": false,
    "pycharm": {
     "name": "#%% md\n"
    }
   },
   "source": [
    "[![Open In Colab](https://colab.research.google.com/assets/colab-badge.svg)](https://colab.research.google.com/github/ds-reboot/python-first-part/blob/main/notebooks/hometasks/Task3_dmrf_OOP.ipynb)"
   ]
  },
  {
   "cell_type": "markdown",
   "metadata": {
    "collapsed": false,
    "pycharm": {
     "name": "#%% md\n"
    }
   },
   "source": [
    "# Задание\n",
    "Реализовать с помощью объектно-ориентированного подхода предыдущие 2 задания. Создайте для каждой из задач отдельный класс, который позволяет ее решить.\n",
    "\n",
    "* Собрать информацию о всех строящихся объектах на сайте \"наш.дом.рф\"\n",
    "* Cохранить ее в pandas dataframe, а также в excel, pickle, БД\n",
    "\n",
    "* Проверить состояние датафрейма и привести его в формат, позволяющий дальнейшее исследование данных\n",
    "\n",
    "*  Сделать визуализацию для мини-исследования рынка строящейся недвижимости в одном или нескольких регионах с помощью pandas, matplotlib, seaborn, plotly и других инструментов.\n",
    "\n"
   ]
  },
  {
   "cell_type": "markdown",
   "metadata": {
    "collapsed": false,
    "pycharm": {
     "name": "#%% md\n"
    }
   },
   "source": [
    "## Список классов\n",
    "### Class  RealtyBase - класс формирования базы объектов\n",
    "### Class  Transform - класс приведения базы объектов к виду позволяющему анализ\n",
    "### Class  Analyze - класс визуализации и анализа"
   ]
  },
  {
   "cell_type": "code",
   "execution_count": 57,
   "metadata": {
    "collapsed": false,
    "pycharm": {
     "name": "#%%\n"
    }
   },
   "outputs": [],
   "source": [
    "class RealtyBase:\n",
    "    ''' Класс скачивает базу объектов, сохраняет в текущую папку , либо по переданному пути path в заданном\n",
    "    формате '''\n",
    "    def __init__(self, cnt=1 , path ='./' , type='pickle'):\n",
    "        self._path = path\n",
    "        self._type = type\n",
    "        self.data = []\n",
    "        self._offset = 0\n",
    "        self._cnt = cnt\n",
    "\n",
    "    def get_data (self):\n",
    "        import pandas as pd\n",
    "        import requests\n",
    "        #начальное смещение\n",
    "        offset_ = self._offset\n",
    "\n",
    "        #кол-во записей для загрузки за один запрос\n",
    "        limit_ = 10\n",
    "\n",
    "        res = []\n",
    "        cnt = 0\n",
    "\n",
    "        #загружаем частями все id объектов и формируем результирующий список\n",
    "        while cnt <= self._cnt: \n",
    "            url = f'https://xn--80az8a.xn--d1aqf.xn--p1ai/%D1%81%D0%B5%D1%80%D0%B2%D0%B8%D1%81%D1%8B/api/kn/object?offset={offset_}&limit={limit_}&sortField=devId.devShortCleanNm&sortType=asc&objStatus=0'\n",
    "            temp = requests.get(url).json().get('data').get('list')\n",
    "            cnt += len(temp)\n",
    "    \n",
    "            if len(temp) :        \n",
    "                objids = [x.get('objId') for x in temp]\n",
    "                res += objids\n",
    "                offset_ += limit_\n",
    "            else:\n",
    "                print('loaded : ' + str(offset_) + ' records')\n",
    "                break\n",
    "\n",
    "        #Загрузка данных по списку объектов\n",
    "\n",
    "        objlist = []\n",
    "        for el in res:\n",
    "            url = f'https://xn--80az8a.xn--d1aqf.xn--p1ai/%D1%81%D0%B5%D1%80%D0%B2%D0%B8%D1%81%D1%8B/api/object/{el}'\n",
    "            x = requests.get(url).json().get('data')\n",
    "            objlist.append(x)\n",
    "\n",
    "\n",
    "        df = pd.concat([ pd.json_normalize(i) for i in objlist], ignore_index=True)\n",
    "        self.data = df\n",
    "        print('Data loaded')\n",
    "\n",
    "    def save_data (self, *type: str):\n",
    "        if type:\n",
    "            self._type = type\n",
    "        if self._type == 'excel':\n",
    "            self.data.to_excel(self._path + 'house_data.xlsx')\n",
    "            print('Saved to ' + self._type)\n",
    "        elif self._type =='pickle':\n",
    "            #выгрузим в pickle\n",
    "            self.data.to_pickle(self._path + './house_data.pkl')\n",
    "            print('Saved to ' + self._type)\n",
    "        elif self._type =='db':\n",
    "            #выгрузим в БД\n",
    "            import sqlite3\n",
    "\n",
    "            #создаем базу\n",
    "            conn = sqlite3.connect( self._path + 'sample.db')\n",
    "            #выгружаем данные в таблицу house_data\n",
    "            self.data.to_sql('house_data', conn , if_exists='replace')\n",
    "            print('Saved to ' + self._type)\n",
    "\n",
    "            conn.commit()\n",
    "            conn.close()\n",
    "        else:\n",
    "            raise ValueError ('No such type defined')      "
   ]
  },
  {
   "cell_type": "code",
   "execution_count": 135,
   "metadata": {},
   "outputs": [],
   "source": [
    "class Transform:\n",
    "    def __init__(self, path):\n",
    "        self._path =  path\n",
    "\n",
    "    def load(self):\n",
    "        import pandas as pd\n",
    "        self._obj = pd.read_pickle(self._path)\n",
    "\n",
    "    def get_columns(self):\n",
    "        print( self._obj.columns )\n",
    "\n",
    "    def set_types(self):\n",
    "        import pandas as pd\n",
    "        #  выберем колонки по которым будем проводить исследование\n",
    "        col_for_analize = ['region',\n",
    "                    'objElemLivingCnt', \n",
    "                    'objReady100PercDt', \n",
    "                    'objElemParkingCnt',\n",
    "                    'objSquareLiving', \n",
    "                    'objFlatCnt', \n",
    "                    'objFlatSq', \n",
    "                    'objFloorCnt', \n",
    "                    'soldOutPerc',\n",
    "                    'objPriceAvg',\n",
    "                    ]\n",
    "        df = pd.DataFrame(self._obj[col_for_analize])\n",
    "        df.fillna(0, inplace = True)\n",
    "\n",
    "        # приведем типы колонок к единому формату .  для даты 100 процентой готовности укадем дату\n",
    "        col_types = {'region' : 'int32' ,\n",
    "             'objElemLivingCnt' : 'int32' ,\n",
    "             'objReady100PercDt' : 'datetime64', \n",
    "             'objElemParkingCnt' : 'int32',\n",
    "             'objSquareLiving' : 'float64', \n",
    "             'objFlatCnt' : 'int32', \n",
    "             'objFlatSq' : 'float64', \n",
    "             'objFloorCnt' : 'int32', \n",
    "             'soldOutPerc' : 'float64',\n",
    "             'objPriceAvg' : 'float64'\n",
    "             }\n",
    "        \n",
    "        df = df.astype(col_types)\n",
    "        df['ready_year'] = df['objReady100PercDt'].apply( lambda x : x.year)\n",
    "        df['avg_sqr'] = df['objFlatSq'] / df['objFlatCnt']\n",
    "             \n",
    "        self._obj = df\n",
    "    \n",
    "    def get_result(self):\n",
    "        return (self._obj)\n"
   ]
  },
  {
   "cell_type": "code",
   "execution_count": null,
   "metadata": {},
   "outputs": [],
   "source": [
    "class Analyze:\n",
    "\n",
    "    def __init__( self, obj, by = 'region'):\n",
    "        self._by = 'region'\n",
    "        self._obj = obj\n",
    "\n",
    "    def show_graph(self, by):\n",
    "        import matplotlib.pyplot as plt\n",
    "        df = self._obj\n",
    "        df = df[df['objPriceAvg'] > 0]\n",
    "        df['objProce'] = df['objPriceAvg'] * df['objFlatSq']\n",
    "\n",
    "        if by:\n",
    "            self._by = by\n",
    "        \n",
    "        if by == 'region' :\n",
    "            # средняя цена по регионам.\n",
    "            df1 = df[['region','objFlatSq','objProce']].groupby(['region']).aggregate({'objFlatSq' : 'sum', 'objProce' : 'sum'})\n",
    "            \n",
    "            plt.rcParams.update({'figure.autolayout': True})\n",
    "            fig , ax = plt.subplots(figsize = (8,12))\n",
    "\n",
    "            for_bar = (df1['objProce'] / df1['objFlatSq'])\n",
    "\n",
    "            cat = [ str(x) for x in for_bar.index ]\n",
    "\n",
    "            plt.barh( cat , for_bar.values , height=0.3 )\n",
    "            plt.show()\n",
    "\n",
    "        elif by == 'year':\n",
    "            \n",
    "            # ввод жилья по годам .\n",
    "            by_year = df[['ready_year','objSquareLiving']].groupby(['ready_year']).agg('sum')\n",
    "            \n",
    "            plt.rcParams.update({'figure.autolayout': True})\n",
    "            fig , ax = plt.subplots(figsize = (8,12))\n",
    "\n",
    "            x_ticks = [ str(x) for x in by_year.index ]\n",
    "            plt.bar(x_ticks, by_year['objSquareLiving'])\n",
    "\n",
    "\n",
    "            plt.show()\n",
    "        \n",
    "        else:\n",
    "            raise ValueError ('No such graph analytics implemented yet')\n"
   ]
  },
  {
   "cell_type": "code",
   "execution_count": 147,
   "metadata": {},
   "outputs": [],
   "source": [
    "rb = RealtyBase(10,'./','excel')"
   ]
  },
  {
   "cell_type": "code",
   "execution_count": 148,
   "metadata": {},
   "outputs": [
    {
     "name": "stdout",
     "output_type": "stream",
     "text": [
      "Data loaded\n"
     ]
    }
   ],
   "source": [
    "rb.get_data()"
   ]
  },
  {
   "cell_type": "code",
   "execution_count": 149,
   "metadata": {},
   "outputs": [],
   "source": [
    "tr = Transform(path='house_data.pkl')"
   ]
  },
  {
   "cell_type": "code",
   "execution_count": 150,
   "metadata": {},
   "outputs": [],
   "source": [
    "tr.load()"
   ]
  },
  {
   "cell_type": "code",
   "execution_count": 151,
   "metadata": {},
   "outputs": [],
   "source": [
    "tr.set_types()"
   ]
  },
  {
   "cell_type": "code",
   "execution_count": 152,
   "metadata": {},
   "outputs": [],
   "source": [
    "df = tr.get_result()"
   ]
  },
  {
   "cell_type": "code",
   "execution_count": 153,
   "metadata": {
    "collapsed": false,
    "pycharm": {
     "name": "#%%\n"
    }
   },
   "outputs": [],
   "source": [
    "analys = Analyze(df)"
   ]
  },
  {
   "cell_type": "code",
   "execution_count": 154,
   "metadata": {},
   "outputs": [
    {
     "name": "stderr",
     "output_type": "stream",
     "text": [
      "/tmp/ipykernel_166496/1940015464.py:11: SettingWithCopyWarning: \n",
      "A value is trying to be set on a copy of a slice from a DataFrame.\n",
      "Try using .loc[row_indexer,col_indexer] = value instead\n",
      "\n",
      "See the caveats in the documentation: https://pandas.pydata.org/pandas-docs/stable/user_guide/indexing.html#returning-a-view-versus-a-copy\n",
      "  df['objProce'] = df['objPriceAvg'] * df['objFlatSq']\n"
     ]
    },
    {
     "data": {
      "image/png": "[encoded data removed]",
      "text/plain": [
       "<Figure size 576x864 with 1 Axes>"
      ]
     },
     "metadata": {
      "needs_background": "light"
     },
     "output_type": "display_data"
    }
   ],
   "source": [
    "analys.show_graph('year')"
   ]
  }
 ],
 "metadata": {
  "kernelspec": {
   "display_name": "Python 3.10.4 64-bit",
   "language": "python",
   "name": "python3"
  },
  "language_info": {
   "codemirror_mode": {
    "name": "ipython",
    "version": 3
   },
   "file_extension": ".py",
   "mimetype": "text/x-python",
   "name": "python",
   "nbconvert_exporter": "python",
   "pygments_lexer": "ipython3",
   "version": "3.10.4"
  },
  "vscode": {
   "interpreter": {
    "hash": "916dbcbb3f70747c44a77c7bcd40155683ae19c65e1c03b4aa3499c5328201f1"
   }
  }
 },
 "nbformat": 4,
 "nbformat_minor": 0
}
