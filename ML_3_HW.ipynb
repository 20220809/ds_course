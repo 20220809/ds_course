{
 "cells": [
  {
   "cell_type": "code",
   "execution_count": 1,
   "metadata": {},
   "outputs": [],
   "source": [
    "from sklearn.datasets import load_boston\n",
    "import pandas as pd\n",
    "import numpy as np"
   ]
  },
  {
   "cell_type": "code",
   "execution_count": 2,
   "metadata": {},
   "outputs": [],
   "source": [
    "RANDOM_STATE = 42"
   ]
  },
  {
   "cell_type": "code",
   "execution_count": 3,
   "metadata": {},
   "outputs": [
    {
     "name": "stderr",
     "output_type": "stream",
     "text": [
      "/home/denis/.local/lib/python3.10/site-packages/sklearn/utils/deprecation.py:87: FutureWarning: Function load_boston is deprecated; `load_boston` is deprecated in 1.0 and will be removed in 1.2.\n",
      "\n",
      "    The Boston housing prices dataset has an ethical problem. You can refer to\n",
      "    the documentation of this function for further details.\n",
      "\n",
      "    The scikit-learn maintainers therefore strongly discourage the use of this\n",
      "    dataset unless the purpose of the code is to study and educate about\n",
      "    ethical issues in data science and machine learning.\n",
      "\n",
      "    In this special case, you can fetch the dataset from the original\n",
      "    source::\n",
      "\n",
      "        import pandas as pd\n",
      "        import numpy as np\n",
      "\n",
      "        data_url = \"http://lib.stat.cmu.edu/datasets/boston\"\n",
      "        raw_df = pd.read_csv(data_url, sep=\"\\s+\", skiprows=22, header=None)\n",
      "        data = np.hstack([raw_df.values[::2, :], raw_df.values[1::2, :2]])\n",
      "        target = raw_df.values[1::2, 2]\n",
      "\n",
      "    Alternative datasets include the California housing dataset (i.e.\n",
      "    :func:`~sklearn.datasets.fetch_california_housing`) and the Ames housing\n",
      "    dataset. You can load the datasets as follows::\n",
      "\n",
      "        from sklearn.datasets import fetch_california_housing\n",
      "        housing = fetch_california_housing()\n",
      "\n",
      "    for the California housing dataset and::\n",
      "\n",
      "        from sklearn.datasets import fetch_openml\n",
      "        housing = fetch_openml(name=\"house_prices\", as_frame=True)\n",
      "\n",
      "    for the Ames housing dataset.\n",
      "  warnings.warn(msg, category=FutureWarning)\n"
     ]
    }
   ],
   "source": [
    "dataset = load_boston()\n",
    "X = pd.DataFrame(dataset.data)\n",
    "X.columns = dataset.feature_names\n",
    "y = dataset.target"
   ]
  },
  {
   "cell_type": "markdown",
   "metadata": {},
   "source": [
    "1. Разделите выборку на обучающую и тестовую в отношении 80%/20%"
   ]
  },
  {
   "cell_type": "code",
   "execution_count": 4,
   "metadata": {},
   "outputs": [],
   "source": [
    "from sklearn.model_selection import train_test_split\n",
    "X_train , X_test, y_train , y_test = train_test_split(X, y, test_size=0.2, random_state=RANDOM_STATE)"
   ]
  },
  {
   "cell_type": "markdown",
   "metadata": {},
   "source": [
    "2. Обучите стандартную регрессию, а также Ridge и  Lasso и параметрами по умолчанию и выведите их R2 на тестовой выборке"
   ]
  },
  {
   "cell_type": "code",
   "execution_count": 5,
   "metadata": {},
   "outputs": [],
   "source": [
    "from sklearn.linear_model import LinearRegression, Ridge, Lasso\n",
    "from sklearn.metrics import mean_squared_error, r2_score"
   ]
  },
  {
   "cell_type": "code",
   "execution_count": 6,
   "metadata": {},
   "outputs": [
    {
     "name": "stdout",
     "output_type": "stream",
     "text": [
      "R2: 0.669\n"
     ]
    }
   ],
   "source": [
    "lr = LinearRegression()\n",
    "lr.fit(X_train, y_train)\n",
    "\n",
    "y_pred = lr.predict(X_test)\n",
    "r2 = r2_score(y_test, y_pred)\n",
    "\n",
    "#print(\"Coefficients:\\n\", lr.coef_)\n",
    "print(f\"R2: {r2:.3f}\")"
   ]
  },
  {
   "cell_type": "code",
   "execution_count": 7,
   "metadata": {},
   "outputs": [
    {
     "name": "stdout",
     "output_type": "stream",
     "text": [
      "R2: 0.666\n"
     ]
    }
   ],
   "source": [
    "ridge = Ridge()\n",
    "ridge.fit(X_train, y_train)\n",
    "\n",
    "y_pred = ridge.predict(X_test)\n",
    "r2 = r2_score(y_test, y_pred)\n",
    "print(f\"R2: {r2:.3f}\")\n"
   ]
  },
  {
   "cell_type": "code",
   "execution_count": 8,
   "metadata": {},
   "outputs": [
    {
     "name": "stdout",
     "output_type": "stream",
     "text": [
      "R2: 0.667\n"
     ]
    }
   ],
   "source": [
    "ls = Lasso()\n",
    "ls.fit(X_train, y_train)\n",
    "\n",
    "y_pred = ls.predict(X_test)\n",
    "r2 = r2_score(y_test, y_pred)\n",
    "print(f\"R2: {r2:.3f}\")"
   ]
  },
  {
   "cell_type": "markdown",
   "metadata": {},
   "source": [
    "3. Для Ridge и Lasso подберите коэффициент регуляризации(используйте GridSearchCV, RidgeCV, LassoCV) в пределах от $10^{-5}$ до $10^5$ (по степеням 10). Посчитайте R2 на тестовой выборке по лучшим моделям и сравните с предыдущими результатами. Напишите как изменился результат"
   ]
  },
  {
   "cell_type": "code",
   "execution_count": 9,
   "metadata": {},
   "outputs": [],
   "source": [
    "from sklearn.model_selection import GridSearchCV\n",
    "from sklearn.linear_model import RidgeCV , LassoCV"
   ]
  },
  {
   "cell_type": "code",
   "execution_count": 10,
   "metadata": {},
   "outputs": [],
   "source": [
    "parameters = [10**i for i in range(-5,6,1)]\n",
    "rgs = GridSearchCV(ridge, {'alpha':parameters}, scoring='r2')\n",
    "rcv = RidgeCV(alphas=parameters, scoring='r2')\n",
    "lgs = GridSearchCV(ls, {'alpha':parameters}, scoring='r2')\n",
    "lcv = LassoCV(alphas=parameters)"
   ]
  },
  {
   "cell_type": "code",
   "execution_count": 11,
   "metadata": {},
   "outputs": [
    {
     "data": {
      "text/html": [
       "<style>#sk-container-id-1 {color: black;background-color: white;}#sk-container-id-1 pre{padding: 0;}#sk-container-id-1 div.sk-toggleable {background-color: white;}#sk-container-id-1 label.sk-toggleable__label {cursor: pointer;display: block;width: 100%;margin-bottom: 0;padding: 0.3em;box-sizing: border-box;text-align: center;}#sk-container-id-1 label.sk-toggleable__label-arrow:before {content: \"▸\";float: left;margin-right: 0.25em;color: #696969;}#sk-container-id-1 label.sk-toggleable__label-arrow:hover:before {color: black;}#sk-container-id-1 div.sk-estimator:hover label.sk-toggleable__label-arrow:before {color: black;}#sk-container-id-1 div.sk-toggleable__content {max-height: 0;max-width: 0;overflow: hidden;text-align: left;background-color: #f0f8ff;}#sk-container-id-1 div.sk-toggleable__content pre {margin: 0.2em;color: black;border-radius: 0.25em;background-color: #f0f8ff;}#sk-container-id-1 input.sk-toggleable__control:checked~div.sk-toggleable__content {max-height: 200px;max-width: 100%;overflow: auto;}#sk-container-id-1 input.sk-toggleable__control:checked~label.sk-toggleable__label-arrow:before {content: \"▾\";}#sk-container-id-1 div.sk-estimator input.sk-toggleable__control:checked~label.sk-toggleable__label {background-color: #d4ebff;}#sk-container-id-1 div.sk-label input.sk-toggleable__control:checked~label.sk-toggleable__label {background-color: #d4ebff;}#sk-container-id-1 input.sk-hidden--visually {border: 0;clip: rect(1px 1px 1px 1px);clip: rect(1px, 1px, 1px, 1px);height: 1px;margin: -1px;overflow: hidden;padding: 0;position: absolute;width: 1px;}#sk-container-id-1 div.sk-estimator {font-family: monospace;background-color: #f0f8ff;border: 1px dotted black;border-radius: 0.25em;box-sizing: border-box;margin-bottom: 0.5em;}#sk-container-id-1 div.sk-estimator:hover {background-color: #d4ebff;}#sk-container-id-1 div.sk-parallel-item::after {content: \"\";width: 100%;border-bottom: 1px solid gray;flex-grow: 1;}#sk-container-id-1 div.sk-label:hover label.sk-toggleable__label {background-color: #d4ebff;}#sk-container-id-1 div.sk-serial::before {content: \"\";position: absolute;border-left: 1px solid gray;box-sizing: border-box;top: 0;bottom: 0;left: 50%;z-index: 0;}#sk-container-id-1 div.sk-serial {display: flex;flex-direction: column;align-items: center;background-color: white;padding-right: 0.2em;padding-left: 0.2em;position: relative;}#sk-container-id-1 div.sk-item {position: relative;z-index: 1;}#sk-container-id-1 div.sk-parallel {display: flex;align-items: stretch;justify-content: center;background-color: white;position: relative;}#sk-container-id-1 div.sk-item::before, #sk-container-id-1 div.sk-parallel-item::before {content: \"\";position: absolute;border-left: 1px solid gray;box-sizing: border-box;top: 0;bottom: 0;left: 50%;z-index: -1;}#sk-container-id-1 div.sk-parallel-item {display: flex;flex-direction: column;z-index: 1;position: relative;background-color: white;}#sk-container-id-1 div.sk-parallel-item:first-child::after {align-self: flex-end;width: 50%;}#sk-container-id-1 div.sk-parallel-item:last-child::after {align-self: flex-start;width: 50%;}#sk-container-id-1 div.sk-parallel-item:only-child::after {width: 0;}#sk-container-id-1 div.sk-dashed-wrapped {border: 1px dashed gray;margin: 0 0.4em 0.5em 0.4em;box-sizing: border-box;padding-bottom: 0.4em;background-color: white;}#sk-container-id-1 div.sk-label label {font-family: monospace;font-weight: bold;display: inline-block;line-height: 1.2em;}#sk-container-id-1 div.sk-label-container {text-align: center;}#sk-container-id-1 div.sk-container {/* jupyter's `normalize.less` sets `[hidden] { display: none; }` but bootstrap.min.css set `[hidden] { display: none !important; }` so we also need the `!important` here to be able to override the default hidden behavior on the sphinx rendered scikit-learn.org. See: https://github.com/scikit-learn/scikit-learn/issues/21755 */display: inline-block !important;position: relative;}#sk-container-id-1 div.sk-text-repr-fallback {display: none;}</style><div id=\"sk-container-id-1\" class=\"sk-top-container\"><div class=\"sk-text-repr-fallback\"><pre>LassoCV(alphas=[1e-05, 0.0001, 0.001, 0.01, 0.1, 1, 10, 100, 1000, 10000,\n",
       "                100000])</pre><b>In a Jupyter environment, please rerun this cell to show the HTML representation or trust the notebook. <br />On GitHub, the HTML representation is unable to render, please try loading this page with nbviewer.org.</b></div><div class=\"sk-container\" hidden><div class=\"sk-item\"><div class=\"sk-estimator sk-toggleable\"><input class=\"sk-toggleable__control sk-hidden--visually\" id=\"sk-estimator-id-1\" type=\"checkbox\" checked><label for=\"sk-estimator-id-1\" class=\"sk-toggleable__label sk-toggleable__label-arrow\">LassoCV</label><div class=\"sk-toggleable__content\"><pre>LassoCV(alphas=[1e-05, 0.0001, 0.001, 0.01, 0.1, 1, 10, 100, 1000, 10000,\n",
       "                100000])</pre></div></div></div></div></div>"
      ],
      "text/plain": [
       "LassoCV(alphas=[1e-05, 0.0001, 0.001, 0.01, 0.1, 1, 10, 100, 1000, 10000,\n",
       "                100000])"
      ]
     },
     "execution_count": 11,
     "metadata": {},
     "output_type": "execute_result"
    }
   ],
   "source": [
    "rgs.fit(X_train,y_train)\n",
    "rcv.fit(X_train,y_train)\n",
    "lgs.fit(X_train,y_train)\n",
    "lcv.fit(X_train,y_train)\n"
   ]
  },
  {
   "cell_type": "code",
   "execution_count": 12,
   "metadata": {},
   "outputs": [
    {
     "name": "stdout",
     "output_type": "stream",
     "text": [
      "{'alpha': 1e-05}\n",
      "0.6687594856409733\n"
     ]
    },
    {
     "data": {
      "text/plain": [
       "0.668750999876409"
      ]
     },
     "execution_count": 12,
     "metadata": {},
     "output_type": "execute_result"
    }
   ],
   "source": [
    "print(rgs.best_params_)\n",
    "print(rgs.best_estimator_.score(X_test,y_test))\n",
    "\n",
    "rcv.score(X_test,y_test)"
   ]
  },
  {
   "cell_type": "code",
   "execution_count": 13,
   "metadata": {},
   "outputs": [
    {
     "name": "stdout",
     "output_type": "stream",
     "text": [
      "{'alpha': 1e-05}\n",
      "0.6687598638315153\n"
     ]
    },
    {
     "data": {
      "text/plain": [
       "0.6687598638315153"
      ]
     },
     "execution_count": 13,
     "metadata": {},
     "output_type": "execute_result"
    }
   ],
   "source": [
    "print(lgs.best_params_)\n",
    "print(lgs.best_estimator_.score(X_test,y_test))\n",
    "\n",
    "lcv.score(X_test,y_test)"
   ]
  },
  {
   "cell_type": "markdown",
   "metadata": {},
   "source": [
    "4. Проведите масштабирование выборки(используйте Pipeline, StandardScaler, MinMaxScaler), посчитайте R2 и сравните с предыдущими результатами. Напишите как изменился результат"
   ]
  },
  {
   "cell_type": "code",
   "execution_count": 14,
   "metadata": {},
   "outputs": [
    {
     "name": "stdout",
     "output_type": "stream",
     "text": [
      "StandardScaler R2 : 0.668759493536\n",
      "MinMax Scaler R2 : 0.668759493536\n"
     ]
    }
   ],
   "source": [
    "from sklearn.pipeline import Pipeline\n",
    "from sklearn.preprocessing import StandardScaler , MinMaxScaler\n",
    "\n",
    "std_scale = StandardScaler()\n",
    "mm_scale = MinMaxScaler()\n",
    "\n",
    "pipe_std = Pipeline([('std', StandardScaler()), ('lr', LinearRegression()) ])\n",
    "pipe_mm =  Pipeline([('min_max', MinMaxScaler()), ('lr', LinearRegression()) ])\n",
    "\n",
    "pipe_std.fit(X_train, y_train)\n",
    "r2_std = pipe_std.score(X_test,y_test)\n",
    "print(f\"StandardScaler R2 : {r2_std:.12f}\")\n",
    "\n",
    "pipe_mm.fit(X_train, y_train)\n",
    "r2_mm = pipe_mm.score(X_test,y_test)\n",
    "print(f\"MinMax Scaler R2 : {r2_mm:.12f}\")"
   ]
  },
  {
   "cell_type": "markdown",
   "metadata": {},
   "source": [
    "5. Подберите коэффициент регуляризации для Ridge и Lasso на масштабированных данных, посчитайте R2 и сравните с предыдущими результатами. Напишите как изменился результат"
   ]
  },
  {
   "cell_type": "code",
   "execution_count": 15,
   "metadata": {},
   "outputs": [
    {
     "name": "stdout",
     "output_type": "stream",
     "text": [
      "For GridSearchCV(estimator=Ridge(),\n",
      "             param_grid={'alpha': [1e-05, 0.0001, 0.001, 0.01, 0.1, 1, 10, 100,\n",
      "                                   1000, 10000, 100000]},\n",
      "             scoring='r2') \n",
      " R2 : 0.67003100\n",
      "For GridSearchCV(estimator=Lasso(),\n",
      "             param_grid={'alpha': [1e-05, 0.0001, 0.001, 0.01, 0.1, 1, 10, 100,\n",
      "                                   1000, 10000, 100000]},\n",
      "             scoring='r2') \n",
      " R2 : 0.66876051\n",
      "For RidgeCV(alphas=[1e-05, 0.0001, 0.001, 0.01, 0.1, 1, 10, 100, 1000, 10000,\n",
      "                100000],\n",
      "        scoring='r2') \n",
      " R2 : 0.67003100\n",
      "For LassoCV(alphas=[1e-05, 0.0001, 0.001, 0.01, 0.1, 1, 10, 100, 1000, 10000,\n",
      "                100000]) \n",
      " R2 : 0.66876051\n"
     ]
    },
    {
     "name": "stderr",
     "output_type": "stream",
     "text": [
      "/home/denis/.local/lib/python3.10/site-packages/sklearn/base.py:450: UserWarning: X does not have valid feature names, but RidgeCV was fitted with feature names\n",
      "  warnings.warn(\n"
     ]
    }
   ],
   "source": [
    "for i in [rgs,lgs,rcv,lcv] :\n",
    "    pipe = Pipeline([('std', StandardScaler()), ('min_max',MinMaxScaler()), ('lgs', i) ])\n",
    "    pipe.fit(X_train, y_train)\n",
    "    r2 = pipe.score(X_test,y_test)\n",
    "    print(f\"For {i:} \\n R2 : {r2:.8f}\")\n",
    "    "
   ]
  },
  {
   "cell_type": "markdown",
   "metadata": {},
   "source": [
    "6. Добавьте попарные произведения признаков и их квадраты (используйте PolynomialFeatures) на масштабированных признаках, посчитайте R2 и сравните с предыдущими результатами. Напишите как изменился результат"
   ]
  },
  {
   "cell_type": "code",
   "execution_count": 16,
   "metadata": {},
   "outputs": [
    {
     "name": "stdout",
     "output_type": "stream",
     "text": [
      "For GridSearchCV(estimator=Ridge(),\n",
      "             param_grid={'alpha': [1e-05, 0.0001, 0.001, 0.01, 0.1, 1, 10, 100,\n",
      "                                   1000, 10000, 100000]},\n",
      "             scoring='r2') \n",
      " R2 : 0.85006304\n"
     ]
    },
    {
     "name": "stderr",
     "output_type": "stream",
     "text": [
      "/home/denis/.local/lib/python3.10/site-packages/sklearn/linear_model/_coordinate_descent.py:648: ConvergenceWarning: Objective did not converge. You might want to increase the number of iterations, check the scale of the features or consider increasing regularisation. Duality gap: 7.991e+02, tolerance: 2.882e+00\n",
      "  model = cd_fast.enet_coordinate_descent(\n",
      "/home/denis/.local/lib/python3.10/site-packages/sklearn/linear_model/_coordinate_descent.py:648: ConvergenceWarning: Objective did not converge. You might want to increase the number of iterations, check the scale of the features or consider increasing regularisation. Duality gap: 8.290e+02, tolerance: 2.764e+00\n",
      "  model = cd_fast.enet_coordinate_descent(\n",
      "/home/denis/.local/lib/python3.10/site-packages/sklearn/linear_model/_coordinate_descent.py:648: ConvergenceWarning: Objective did not converge. You might want to increase the number of iterations, check the scale of the features or consider increasing regularisation. Duality gap: 9.403e+02, tolerance: 2.710e+00\n",
      "  model = cd_fast.enet_coordinate_descent(\n",
      "/home/denis/.local/lib/python3.10/site-packages/sklearn/linear_model/_coordinate_descent.py:648: ConvergenceWarning: Objective did not converge. You might want to increase the number of iterations, check the scale of the features or consider increasing regularisation. Duality gap: 8.137e+02, tolerance: 2.730e+00\n",
      "  model = cd_fast.enet_coordinate_descent(\n",
      "/home/denis/.local/lib/python3.10/site-packages/sklearn/linear_model/_coordinate_descent.py:648: ConvergenceWarning: Objective did not converge. You might want to increase the number of iterations, check the scale of the features or consider increasing regularisation. Duality gap: 8.594e+02, tolerance: 2.948e+00\n",
      "  model = cd_fast.enet_coordinate_descent(\n",
      "/home/denis/.local/lib/python3.10/site-packages/sklearn/linear_model/_coordinate_descent.py:648: ConvergenceWarning: Objective did not converge. You might want to increase the number of iterations, check the scale of the features or consider increasing regularisation. Duality gap: 8.290e+02, tolerance: 2.882e+00\n",
      "  model = cd_fast.enet_coordinate_descent(\n",
      "/home/denis/.local/lib/python3.10/site-packages/sklearn/linear_model/_coordinate_descent.py:648: ConvergenceWarning: Objective did not converge. You might want to increase the number of iterations, check the scale of the features or consider increasing regularisation. Duality gap: 8.486e+02, tolerance: 2.764e+00\n",
      "  model = cd_fast.enet_coordinate_descent(\n",
      "/home/denis/.local/lib/python3.10/site-packages/sklearn/linear_model/_coordinate_descent.py:648: ConvergenceWarning: Objective did not converge. You might want to increase the number of iterations, check the scale of the features or consider increasing regularisation. Duality gap: 9.685e+02, tolerance: 2.710e+00\n",
      "  model = cd_fast.enet_coordinate_descent(\n",
      "/home/denis/.local/lib/python3.10/site-packages/sklearn/linear_model/_coordinate_descent.py:648: ConvergenceWarning: Objective did not converge. You might want to increase the number of iterations, check the scale of the features or consider increasing regularisation. Duality gap: 8.119e+02, tolerance: 2.730e+00\n",
      "  model = cd_fast.enet_coordinate_descent(\n",
      "/home/denis/.local/lib/python3.10/site-packages/sklearn/linear_model/_coordinate_descent.py:648: ConvergenceWarning: Objective did not converge. You might want to increase the number of iterations, check the scale of the features or consider increasing regularisation. Duality gap: 8.479e+02, tolerance: 2.948e+00\n",
      "  model = cd_fast.enet_coordinate_descent(\n",
      "/home/denis/.local/lib/python3.10/site-packages/sklearn/linear_model/_coordinate_descent.py:648: ConvergenceWarning: Objective did not converge. You might want to increase the number of iterations, check the scale of the features or consider increasing regularisation. Duality gap: 7.251e+02, tolerance: 2.882e+00\n",
      "  model = cd_fast.enet_coordinate_descent(\n",
      "/home/denis/.local/lib/python3.10/site-packages/sklearn/linear_model/_coordinate_descent.py:648: ConvergenceWarning: Objective did not converge. You might want to increase the number of iterations, check the scale of the features or consider increasing regularisation. Duality gap: 8.175e+02, tolerance: 2.764e+00\n",
      "  model = cd_fast.enet_coordinate_descent(\n",
      "/home/denis/.local/lib/python3.10/site-packages/sklearn/linear_model/_coordinate_descent.py:648: ConvergenceWarning: Objective did not converge. You might want to increase the number of iterations, check the scale of the features or consider increasing regularisation. Duality gap: 8.954e+02, tolerance: 2.710e+00\n",
      "  model = cd_fast.enet_coordinate_descent(\n",
      "/home/denis/.local/lib/python3.10/site-packages/sklearn/linear_model/_coordinate_descent.py:648: ConvergenceWarning: Objective did not converge. You might want to increase the number of iterations, check the scale of the features or consider increasing regularisation. Duality gap: 6.474e+02, tolerance: 2.730e+00\n",
      "  model = cd_fast.enet_coordinate_descent(\n",
      "/home/denis/.local/lib/python3.10/site-packages/sklearn/linear_model/_coordinate_descent.py:648: ConvergenceWarning: Objective did not converge. You might want to increase the number of iterations, check the scale of the features or consider increasing regularisation. Duality gap: 6.837e+02, tolerance: 2.948e+00\n",
      "  model = cd_fast.enet_coordinate_descent(\n",
      "/home/denis/.local/lib/python3.10/site-packages/sklearn/linear_model/_coordinate_descent.py:648: ConvergenceWarning: Objective did not converge. You might want to increase the number of iterations, check the scale of the features or consider increasing regularisation. Duality gap: 1.912e+01, tolerance: 2.882e+00\n",
      "  model = cd_fast.enet_coordinate_descent(\n",
      "/home/denis/.local/lib/python3.10/site-packages/sklearn/linear_model/_coordinate_descent.py:648: ConvergenceWarning: Objective did not converge. You might want to increase the number of iterations, check the scale of the features or consider increasing regularisation. Duality gap: 8.753e+00, tolerance: 2.764e+00\n",
      "  model = cd_fast.enet_coordinate_descent(\n",
      "/home/denis/.local/lib/python3.10/site-packages/sklearn/linear_model/_coordinate_descent.py:648: ConvergenceWarning: Objective did not converge. You might want to increase the number of iterations, check the scale of the features or consider increasing regularisation. Duality gap: 5.377e+00, tolerance: 2.710e+00\n",
      "  model = cd_fast.enet_coordinate_descent(\n",
      "/home/denis/.local/lib/python3.10/site-packages/sklearn/linear_model/_coordinate_descent.py:648: ConvergenceWarning: Objective did not converge. You might want to increase the number of iterations, check the scale of the features or consider increasing regularisation. Duality gap: 2.231e+01, tolerance: 2.948e+00\n",
      "  model = cd_fast.enet_coordinate_descent(\n",
      "/home/denis/.local/lib/python3.10/site-packages/sklearn/linear_model/_coordinate_descent.py:648: ConvergenceWarning: Objective did not converge. You might want to increase the number of iterations, check the scale of the features or consider increasing regularisation. Duality gap: 9.650e+02, tolerance: 3.510e+00\n",
      "  model = cd_fast.enet_coordinate_descent(\n"
     ]
    },
    {
     "name": "stdout",
     "output_type": "stream",
     "text": [
      "For GridSearchCV(estimator=Lasso(),\n",
      "             param_grid={'alpha': [1e-05, 0.0001, 0.001, 0.01, 0.1, 1, 10, 100,\n",
      "                                   1000, 10000, 100000]},\n",
      "             scoring='r2') \n",
      " R2 : 0.83905817\n"
     ]
    },
    {
     "name": "stderr",
     "output_type": "stream",
     "text": [
      "/home/denis/.local/lib/python3.10/site-packages/sklearn/base.py:450: UserWarning: X does not have valid feature names, but RidgeCV was fitted with feature names\n",
      "  warnings.warn(\n",
      "/home/denis/.local/lib/python3.10/site-packages/sklearn/linear_model/_coordinate_descent.py:634: ConvergenceWarning: Objective did not converge. You might want to increase the number of iterations. Duality gap: 9.246722741843769, tolerance: 2.8821090464396284\n",
      "  model = cd_fast.enet_coordinate_descent_gram(\n",
      "/home/denis/.local/lib/python3.10/site-packages/sklearn/linear_model/_coordinate_descent.py:634: ConvergenceWarning: Objective did not converge. You might want to increase the number of iterations. Duality gap: 716.7931216339475, tolerance: 2.8821090464396284\n",
      "  model = cd_fast.enet_coordinate_descent_gram(\n"
     ]
    },
    {
     "name": "stdout",
     "output_type": "stream",
     "text": [
      "For RidgeCV(alphas=[1e-05, 0.0001, 0.001, 0.01, 0.1, 1, 10, 100, 1000, 10000,\n",
      "                100000],\n",
      "        scoring='r2') \n",
      " R2 : 0.85006304\n"
     ]
    },
    {
     "name": "stderr",
     "output_type": "stream",
     "text": [
      "/home/denis/.local/lib/python3.10/site-packages/sklearn/linear_model/_coordinate_descent.py:634: ConvergenceWarning: Objective did not converge. You might want to increase the number of iterations. Duality gap: 763.7300474513803, tolerance: 2.8821090464396284\n",
      "  model = cd_fast.enet_coordinate_descent_gram(\n",
      "/home/denis/.local/lib/python3.10/site-packages/sklearn/linear_model/_coordinate_descent.py:634: ConvergenceWarning: Objective did not converge. You might want to increase the number of iterations. Duality gap: 745.4537354071995, tolerance: 2.8821090464396284\n",
      "  model = cd_fast.enet_coordinate_descent_gram(\n",
      "/home/denis/.local/lib/python3.10/site-packages/sklearn/linear_model/_coordinate_descent.py:634: ConvergenceWarning: Objective did not converge. You might want to increase the number of iterations. Duality gap: 8.808566255100232, tolerance: 2.764448730650155\n",
      "  model = cd_fast.enet_coordinate_descent_gram(\n",
      "/home/denis/.local/lib/python3.10/site-packages/sklearn/linear_model/_coordinate_descent.py:634: ConvergenceWarning: Objective did not converge. You might want to increase the number of iterations. Duality gap: 769.4143954671106, tolerance: 2.764448730650155\n",
      "  model = cd_fast.enet_coordinate_descent_gram(\n",
      "/home/denis/.local/lib/python3.10/site-packages/sklearn/linear_model/_coordinate_descent.py:634: ConvergenceWarning: Objective did not converge. You might want to increase the number of iterations. Duality gap: 768.7347892560574, tolerance: 2.764448730650155\n",
      "  model = cd_fast.enet_coordinate_descent_gram(\n",
      "/home/denis/.local/lib/python3.10/site-packages/sklearn/linear_model/_coordinate_descent.py:634: ConvergenceWarning: Objective did not converge. You might want to increase the number of iterations. Duality gap: 776.587768733465, tolerance: 2.764448730650155\n",
      "  model = cd_fast.enet_coordinate_descent_gram(\n",
      "/home/denis/.local/lib/python3.10/site-packages/sklearn/linear_model/_coordinate_descent.py:634: ConvergenceWarning: Objective did not converge. You might want to increase the number of iterations. Duality gap: 850.7103763894154, tolerance: 2.710494922600619\n",
      "  model = cd_fast.enet_coordinate_descent_gram(\n",
      "/home/denis/.local/lib/python3.10/site-packages/sklearn/linear_model/_coordinate_descent.py:634: ConvergenceWarning: Objective did not converge. You might want to increase the number of iterations. Duality gap: 890.3861809768483, tolerance: 2.710494922600619\n",
      "  model = cd_fast.enet_coordinate_descent_gram(\n",
      "/home/denis/.local/lib/python3.10/site-packages/sklearn/linear_model/_coordinate_descent.py:634: ConvergenceWarning: Objective did not converge. You might want to increase the number of iterations. Duality gap: 870.193698446478, tolerance: 2.710494922600619\n",
      "  model = cd_fast.enet_coordinate_descent_gram(\n",
      "/home/denis/.local/lib/python3.10/site-packages/sklearn/linear_model/_coordinate_descent.py:634: ConvergenceWarning: Objective did not converge. You might want to increase the number of iterations. Duality gap: 461.19821430198795, tolerance: 2.7297569226006195\n",
      "  model = cd_fast.enet_coordinate_descent_gram(\n",
      "/home/denis/.local/lib/python3.10/site-packages/sklearn/linear_model/_coordinate_descent.py:634: ConvergenceWarning: Objective did not converge. You might want to increase the number of iterations. Duality gap: 779.7982000482875, tolerance: 2.7297569226006195\n",
      "  model = cd_fast.enet_coordinate_descent_gram(\n",
      "/home/denis/.local/lib/python3.10/site-packages/sklearn/linear_model/_coordinate_descent.py:634: ConvergenceWarning: Objective did not converge. You might want to increase the number of iterations. Duality gap: 786.2785889815526, tolerance: 2.7297569226006195\n",
      "  model = cd_fast.enet_coordinate_descent_gram(\n",
      "/home/denis/.local/lib/python3.10/site-packages/sklearn/linear_model/_coordinate_descent.py:634: ConvergenceWarning: Objective did not converge. You might want to increase the number of iterations. Duality gap: 15.976478762565876, tolerance: 2.9476950246913574\n",
      "  model = cd_fast.enet_coordinate_descent_gram(\n",
      "/home/denis/.local/lib/python3.10/site-packages/sklearn/linear_model/_coordinate_descent.py:634: ConvergenceWarning: Objective did not converge. You might want to increase the number of iterations. Duality gap: 464.011813176621, tolerance: 2.9476950246913574\n",
      "  model = cd_fast.enet_coordinate_descent_gram(\n",
      "/home/denis/.local/lib/python3.10/site-packages/sklearn/linear_model/_coordinate_descent.py:634: ConvergenceWarning: Objective did not converge. You might want to increase the number of iterations. Duality gap: 789.5837576229616, tolerance: 2.9476950246913574\n",
      "  model = cd_fast.enet_coordinate_descent_gram(\n",
      "/home/denis/.local/lib/python3.10/site-packages/sklearn/linear_model/_coordinate_descent.py:634: ConvergenceWarning: Objective did not converge. You might want to increase the number of iterations. Duality gap: 808.647123124457, tolerance: 2.9476950246913574\n",
      "  model = cd_fast.enet_coordinate_descent_gram(\n"
     ]
    },
    {
     "name": "stdout",
     "output_type": "stream",
     "text": [
      "For LassoCV(alphas=[1e-05, 0.0001, 0.001, 0.01, 0.1, 1, 10, 100, 1000, 10000,\n",
      "                100000]) \n",
      " R2 : 0.83905817\n"
     ]
    },
    {
     "name": "stderr",
     "output_type": "stream",
     "text": [
      "/home/denis/.local/lib/python3.10/site-packages/sklearn/linear_model/_coordinate_descent.py:648: ConvergenceWarning: Objective did not converge. You might want to increase the number of iterations, check the scale of the features or consider increasing regularisation. Duality gap: 9.650e+02, tolerance: 3.510e+00\n",
      "  model = cd_fast.enet_coordinate_descent(\n"
     ]
    }
   ],
   "source": [
    "from sklearn.preprocessing import PolynomialFeatures\n",
    "poly = PolynomialFeatures(2)\n",
    "\n",
    "for i in [rgs,lgs,rcv,lcv] :\n",
    "    pipe = Pipeline([('std', StandardScaler()), ('min_max',MinMaxScaler()), ('poly', poly), ('lgs', i) ])\n",
    "    pipe.fit(X_train, y_train)\n",
    "    r2 = pipe.score(X_test,y_test)\n",
    "    print(f\"For {i:} \\n R2 : {r2:.8f}\")"
   ]
  },
  {
   "cell_type": "markdown",
   "metadata": {},
   "source": [
    "7. Подберите наилучшую модель (используйте Pipeline, GridSearchSCV) подбирая тип регуляризации (L1,L2), коэффициент регуляризации, метод масштабирования и степень полинома в PolynomialFeatures. Выведите итоговые параметры и результат R2. Напишите как изменился R2 по сравнению с предыдущими экспериментами"
   ]
  },
  {
   "cell_type": "code",
   "execution_count": 17,
   "metadata": {},
   "outputs": [
    {
     "name": "stdout",
     "output_type": "stream",
     "text": [
      "For degree = 1 and {'alpha': 1, 'tol': 0.1} \n",
      " R2 : 0.66846244\n",
      "For degree = 2 and {'alpha': 10, 'tol': 0.1} \n",
      " R2 : 0.81804659\n",
      "For degree = 3 and {'alpha': 100, 'tol': 0.1} \n",
      " R2 : 0.78630077\n",
      "For degree = 4 and {'alpha': 1000, 'tol': 0.1} \n",
      " R2 : 0.73421217\n",
      "For degree = 1 and {'alpha': 0.0001, 'tol': 0.1} \n",
      " R2 : 0.66868364\n",
      "For degree = 2 and {'alpha': 0.1, 'tol': 0.1} \n",
      " R2 : 0.78642922\n",
      "For degree = 3 and {'alpha': 0.1, 'tol': 0.1} \n",
      " R2 : 0.84458053\n",
      "For degree = 4 and {'alpha': 0.1, 'tol': 0.5} \n",
      " R2 : 0.82763107\n"
     ]
    }
   ],
   "source": [
    "import itertools\n",
    "\n",
    "p_degree = [ i for i in range(1,5)]\n",
    "parameters = [10**i for i in range(-5,6,1)]\n",
    "rgs = GridSearchCV(ridge, {'alpha':parameters, 'tol' : [0.1,0.5]}, scoring='r2')\n",
    "lgs = GridSearchCV(ls, {'alpha':parameters, 'tol' : [0.1,0.5]}, scoring='r2')\n",
    "\n",
    "\n",
    "for i, k in list(itertools.product([rgs,lgs], p_degree)) :\n",
    "    pipe = Pipeline([('std', StandardScaler()), ('poly', PolynomialFeatures(k)), ('lgs', i) ])\n",
    "    pipe.fit(X_train, y_train)\n",
    "    r2 = pipe.score(X_test,y_test)\n",
    "    print(f\"For degree = {k:} and {i.best_params_:} \\n R2 : {r2:.8f}\")"
   ]
  },
  {
   "cell_type": "code",
   "execution_count": null,
   "metadata": {},
   "outputs": [],
   "source": [
    "# Best results  with  poly degree = 3   and  alpha = 0.1 with L1 regularisation"
   ]
  },
  {
   "cell_type": "markdown",
   "metadata": {},
   "source": [
    "http://archive.ics.uci.edu/ml/datasets/Adult"
   ]
  },
  {
   "cell_type": "code",
   "execution_count": 18,
   "metadata": {},
   "outputs": [],
   "source": [
    "import pandas as pd\n",
    "import numpy as np"
   ]
  },
  {
   "cell_type": "code",
   "execution_count": 19,
   "metadata": {},
   "outputs": [],
   "source": [
    "link = 'https://raw.githubusercontent.com/jbrownlee/Datasets/master/adult-all.csv'\n",
    "data = pd.read_csv(link, header=None)"
   ]
  },
  {
   "cell_type": "code",
   "execution_count": 20,
   "metadata": {},
   "outputs": [
    {
     "data": {
      "text/html": [
       "<div>\n",
       "<style scoped>\n",
       "    .dataframe tbody tr th:only-of-type {\n",
       "        vertical-align: middle;\n",
       "    }\n",
       "\n",
       "    .dataframe tbody tr th {\n",
       "        vertical-align: top;\n",
       "    }\n",
       "\n",
       "    .dataframe thead th {\n",
       "        text-align: right;\n",
       "    }\n",
       "</style>\n",
       "<table border=\"1\" class=\"dataframe\">\n",
       "  <thead>\n",
       "    <tr style=\"text-align: right;\">\n",
       "      <th></th>\n",
       "      <th>0</th>\n",
       "      <th>1</th>\n",
       "      <th>2</th>\n",
       "      <th>3</th>\n",
       "      <th>4</th>\n",
       "      <th>5</th>\n",
       "      <th>6</th>\n",
       "      <th>7</th>\n",
       "      <th>8</th>\n",
       "      <th>9</th>\n",
       "      <th>10</th>\n",
       "      <th>11</th>\n",
       "      <th>12</th>\n",
       "      <th>13</th>\n",
       "      <th>14</th>\n",
       "    </tr>\n",
       "  </thead>\n",
       "  <tbody>\n",
       "    <tr>\n",
       "      <th>0</th>\n",
       "      <td>39</td>\n",
       "      <td>State-gov</td>\n",
       "      <td>77516</td>\n",
       "      <td>Bachelors</td>\n",
       "      <td>13</td>\n",
       "      <td>Never-married</td>\n",
       "      <td>Adm-clerical</td>\n",
       "      <td>Not-in-family</td>\n",
       "      <td>White</td>\n",
       "      <td>Male</td>\n",
       "      <td>2174</td>\n",
       "      <td>0</td>\n",
       "      <td>40</td>\n",
       "      <td>United-States</td>\n",
       "      <td>&lt;=50K</td>\n",
       "    </tr>\n",
       "    <tr>\n",
       "      <th>1</th>\n",
       "      <td>50</td>\n",
       "      <td>Self-emp-not-inc</td>\n",
       "      <td>83311</td>\n",
       "      <td>Bachelors</td>\n",
       "      <td>13</td>\n",
       "      <td>Married-civ-spouse</td>\n",
       "      <td>Exec-managerial</td>\n",
       "      <td>Husband</td>\n",
       "      <td>White</td>\n",
       "      <td>Male</td>\n",
       "      <td>0</td>\n",
       "      <td>0</td>\n",
       "      <td>13</td>\n",
       "      <td>United-States</td>\n",
       "      <td>&lt;=50K</td>\n",
       "    </tr>\n",
       "    <tr>\n",
       "      <th>2</th>\n",
       "      <td>38</td>\n",
       "      <td>Private</td>\n",
       "      <td>215646</td>\n",
       "      <td>HS-grad</td>\n",
       "      <td>9</td>\n",
       "      <td>Divorced</td>\n",
       "      <td>Handlers-cleaners</td>\n",
       "      <td>Not-in-family</td>\n",
       "      <td>White</td>\n",
       "      <td>Male</td>\n",
       "      <td>0</td>\n",
       "      <td>0</td>\n",
       "      <td>40</td>\n",
       "      <td>United-States</td>\n",
       "      <td>&lt;=50K</td>\n",
       "    </tr>\n",
       "    <tr>\n",
       "      <th>3</th>\n",
       "      <td>53</td>\n",
       "      <td>Private</td>\n",
       "      <td>234721</td>\n",
       "      <td>11th</td>\n",
       "      <td>7</td>\n",
       "      <td>Married-civ-spouse</td>\n",
       "      <td>Handlers-cleaners</td>\n",
       "      <td>Husband</td>\n",
       "      <td>Black</td>\n",
       "      <td>Male</td>\n",
       "      <td>0</td>\n",
       "      <td>0</td>\n",
       "      <td>40</td>\n",
       "      <td>United-States</td>\n",
       "      <td>&lt;=50K</td>\n",
       "    </tr>\n",
       "    <tr>\n",
       "      <th>4</th>\n",
       "      <td>28</td>\n",
       "      <td>Private</td>\n",
       "      <td>338409</td>\n",
       "      <td>Bachelors</td>\n",
       "      <td>13</td>\n",
       "      <td>Married-civ-spouse</td>\n",
       "      <td>Prof-specialty</td>\n",
       "      <td>Wife</td>\n",
       "      <td>Black</td>\n",
       "      <td>Female</td>\n",
       "      <td>0</td>\n",
       "      <td>0</td>\n",
       "      <td>40</td>\n",
       "      <td>Cuba</td>\n",
       "      <td>&lt;=50K</td>\n",
       "    </tr>\n",
       "  </tbody>\n",
       "</table>\n",
       "</div>"
      ],
      "text/plain": [
       "   0                 1       2          3   4                   5   \\\n",
       "0  39         State-gov   77516  Bachelors  13       Never-married   \n",
       "1  50  Self-emp-not-inc   83311  Bachelors  13  Married-civ-spouse   \n",
       "2  38           Private  215646    HS-grad   9            Divorced   \n",
       "3  53           Private  234721       11th   7  Married-civ-spouse   \n",
       "4  28           Private  338409  Bachelors  13  Married-civ-spouse   \n",
       "\n",
       "                  6              7      8       9     10  11  12  \\\n",
       "0       Adm-clerical  Not-in-family  White    Male  2174   0  40   \n",
       "1    Exec-managerial        Husband  White    Male     0   0  13   \n",
       "2  Handlers-cleaners  Not-in-family  White    Male     0   0  40   \n",
       "3  Handlers-cleaners        Husband  Black    Male     0   0  40   \n",
       "4     Prof-specialty           Wife  Black  Female     0   0  40   \n",
       "\n",
       "              13     14  \n",
       "0  United-States  <=50K  \n",
       "1  United-States  <=50K  \n",
       "2  United-States  <=50K  \n",
       "3  United-States  <=50K  \n",
       "4           Cuba  <=50K  "
      ]
     },
     "execution_count": 20,
     "metadata": {},
     "output_type": "execute_result"
    }
   ],
   "source": [
    "data.head()"
   ]
  },
  {
   "cell_type": "markdown",
   "metadata": {},
   "source": [
    "8. Разделите выборку на признаки и целевую переменную(колонка со зачениями {<=50K,>50K}). Замените целевую переменную на числовые значения."
   ]
  },
  {
   "cell_type": "code",
   "execution_count": 21,
   "metadata": {},
   "outputs": [],
   "source": [
    "cols = data.columns\n",
    "X = data[cols[:-1]]\n",
    "y = data[cols[-1:]].applymap(lambda x: 0 if str(x) == \"<=50K\" else 1)"
   ]
  },
  {
   "cell_type": "markdown",
   "metadata": {},
   "source": [
    "9. Выясните, присутствуют ли в данных пропуски. Заполните их самыми частыми значениями (испольуйте SimpleImputer)"
   ]
  },
  {
   "cell_type": "code",
   "execution_count": 22,
   "metadata": {},
   "outputs": [],
   "source": [
    "from sklearn.impute import SimpleImputer\n",
    "imp_freq = SimpleImputer(missing_values=np.nan, strategy='most_frequent')\n"
   ]
  },
  {
   "cell_type": "markdown",
   "metadata": {},
   "source": [
    "10. Выберите колонки с числовыми и категориальными переменными."
   ]
  },
  {
   "cell_type": "code",
   "execution_count": 23,
   "metadata": {},
   "outputs": [],
   "source": [
    "int_cols = []\n",
    "cat_cols = []\n",
    "for i in X.columns :\n",
    "    if X[i].dtypes == 'int64' :\n",
    "        int_cols.append(i)\n",
    "    else:\n",
    "        cat_cols.append(i) "
   ]
  },
  {
   "cell_type": "code",
   "execution_count": 24,
   "metadata": {},
   "outputs": [
    {
     "name": "stdout",
     "output_type": "stream",
     "text": [
      "int_cols_idx :[0, 2, 4, 10, 11, 12]\n",
      "cat_cols_idx :[1, 3, 5, 6, 7, 8, 9, 13]\n"
     ]
    }
   ],
   "source": [
    "print('int_cols_idx :' + str(int_cols))\n",
    "print('cat_cols_idx :' + str(cat_cols))"
   ]
  },
  {
   "cell_type": "markdown",
   "metadata": {},
   "source": [
    "11. Создайте пайплайн по обработке колонок(используйте OneHotEncoder,MinMaxScaler)."
   ]
  },
  {
   "cell_type": "code",
   "execution_count": 25,
   "metadata": {},
   "outputs": [],
   "source": [
    "from sklearn.pipeline import Pipeline\n",
    "from sklearn.compose import ColumnTransformer\n",
    "from sklearn.preprocessing import OneHotEncoder, MinMaxScaler\n",
    "from sklearn.impute import SimpleImputer\n",
    "imp_freq = SimpleImputer(missing_values=np.nan, strategy='most_frequent')\n",
    "\n",
    "ohe_scale = OneHotEncoder(dtype='object')\n",
    "mm_scale = MinMaxScaler()\n",
    "ct = ColumnTransformer([('int_t', mm_scale, int_cols),('cat_t', ohe_scale , cat_cols)])\n",
    "\n",
    "pipe = Pipeline([('imp_freq', imp_freq),('ct', ct)])"
   ]
  },
  {
   "cell_type": "markdown",
   "metadata": {},
   "source": [
    "12. Посчитайте метрики accuracy и f1_score на предсказании только самого частого класса в целевой переменной."
   ]
  },
  {
   "cell_type": "code",
   "execution_count": 26,
   "metadata": {},
   "outputs": [
    {
     "name": "stdout",
     "output_type": "stream",
     "text": [
      "f1_score: 0.0\n",
      "accuracy_score: 0.7607182343065395\n"
     ]
    }
   ],
   "source": [
    "from sklearn.metrics import f1_score , accuracy_score\n",
    "# assume that prediction is based on most frequent class = 0 \n",
    "y_pred = pd.DataFrame(np.zeros(y.shape[0]))\n",
    "\n",
    "print(f\"f1_score: {f1_score(y_pred, y)}\")\n",
    "print(f\"accuracy_score: {accuracy_score(y_pred,y)}\")"
   ]
  },
  {
   "cell_type": "markdown",
   "metadata": {},
   "source": [
    "13. Посчитайте cross_val_score по алгоритмам LogisticRegression, SVC, LinearSVC по метрикам accuracy и f1_score.\n",
    "Напишите удалось ли превзойти предыдущий результат."
   ]
  },
  {
   "cell_type": "code",
   "execution_count": 27,
   "metadata": {},
   "outputs": [],
   "source": [
    "from sklearn.svm import LinearSVC, SVC\n",
    "from sklearn.linear_model import LogisticRegression\n",
    "from sklearn.model_selection import cross_val_score\n",
    "\n",
    "lr = LogisticRegression(max_iter=200, penalty=\"elasticnet\", solver=\"saga\", l1_ratio=0.5)\n",
    "l_svc = LinearSVC()\n",
    "svc = SVC()\n",
    "\n",
    "pipe_lr = Pipeline([('imp_freq', imp_freq),('ct', ct),('lr', lr)])\n",
    "pipe_l_svc = Pipeline([('imp_freq', imp_freq),('ct', ct),('l_svc', l_svc)])\n",
    "pipe_svc = Pipeline([('imp_freq', imp_freq),('ct', ct),('svc', svc)])"
   ]
  },
  {
   "cell_type": "code",
   "execution_count": 28,
   "metadata": {},
   "outputs": [],
   "source": [
    "from sklearn.model_selection import train_test_split\n",
    "X_train , X_test, y_train , y_test = train_test_split(X, y, test_size=0.2, random_state=RANDOM_STATE)\n"
   ]
  },
  {
   "cell_type": "code",
   "execution_count": 29,
   "metadata": {},
   "outputs": [],
   "source": [
    "cvs_lr_f1 = cross_val_score(pipe_lr, X_train, y_train[14],scoring=\"f1\")\n",
    "cvs_lr_acc = cross_val_score(pipe_lr, X_train, y_train[14],scoring=\"accuracy\")"
   ]
  },
  {
   "cell_type": "code",
   "execution_count": 30,
   "metadata": {},
   "outputs": [],
   "source": [
    "cvs_svc_f1 = cross_val_score(pipe_svc, X_train, y_train[14],scoring=\"f1\",n_jobs=4, cv=3)\n",
    "cvs_svc_acc = cross_val_score(pipe_svc, X_train, y_train[14],scoring=\"accuracy\",n_jobs=4, cv=3)"
   ]
  },
  {
   "cell_type": "code",
   "execution_count": 31,
   "metadata": {},
   "outputs": [],
   "source": [
    "cvs_l_svc_f1 = cross_val_score(pipe_l_svc, X_train, y_train[14],scoring=\"f1\",n_jobs=4, cv=3)\n",
    "cvs_l_svc_acc = cross_val_score(pipe_l_svc, X_train, y_train[14],scoring=\"accuracy\",n_jobs=4,cv=3)"
   ]
  },
  {
   "cell_type": "code",
   "execution_count": 32,
   "metadata": {},
   "outputs": [
    {
     "name": "stdout",
     "output_type": "stream",
     "text": [
      "LogisticRegression accuracy mean is : 0.851764555997315\n",
      "LogisticRegression f1 mean is : 0.6574162649227585\n",
      "SVC accuracy mean is : 0.8395822074037045\n",
      "SVC f1 mean is : 0.6150577610294997\n",
      "Linear SVC accuracy mean is : 0.8524555994661561\n",
      "Linear SVC f1 mean is : 0.6559364561295021\n"
     ]
    }
   ],
   "source": [
    "print( f'LogisticRegression accuracy mean is : {cvs_lr_acc.mean()}')\n",
    "print( f'LogisticRegression f1 mean is : {cvs_lr_f1.mean()}')\n",
    "\n",
    "print( f'SVC accuracy mean is : {cvs_svc_acc.mean()}')\n",
    "print( f'SVC f1 mean is : {cvs_svc_f1.mean()}')\n",
    "\n",
    "print( f'Linear SVC accuracy mean is : {cvs_l_svc_acc.mean()}')\n",
    "print( f'Linear SVC f1 mean is : {cvs_l_svc_f1.mean()}')"
   ]
  },
  {
   "cell_type": "markdown",
   "metadata": {},
   "source": [
    "14. Можно заметить что в данных присутствуют значения '?', замените их самыми частыми значениями (испольуйте SimpleImputer)"
   ]
  },
  {
   "cell_type": "code",
   "execution_count": 33,
   "metadata": {},
   "outputs": [],
   "source": [
    "imp_freq_enh = SimpleImputer(missing_values={np.nan,'?'}, strategy='most_frequent')"
   ]
  },
  {
   "cell_type": "code",
   "execution_count": 34,
   "metadata": {},
   "outputs": [],
   "source": [
    "from sklearn.svm import LinearSVC, SVC\n",
    "from sklearn.linear_model import LogisticRegression\n",
    "from sklearn.model_selection import cross_val_score\n",
    "\n",
    "lr = LogisticRegression(max_iter=200, penalty=\"elasticnet\", solver=\"saga\", l1_ratio=0.5)\n",
    "l_svc = LinearSVC()\n",
    "svc = SVC()\n",
    "\n",
    "pipe_lr_enh = Pipeline([('imp_freq_enh', imp_freq_enh),('ct', ct),('lr', lr)])\n",
    "pipe_l_svc_enh = Pipeline([('imp_freq_enh', imp_freq_enh),('ct', ct),('l_svc', l_svc)])\n",
    "pipe_svc_enh = Pipeline([('imp_freq_enh', imp_freq_enh),('ct', ct),('svc', svc)])"
   ]
  },
  {
   "cell_type": "markdown",
   "metadata": {},
   "source": [
    "15. Посчитайте cross_val_score на новых данных. Напишите удалось ли улучшить результат."
   ]
  },
  {
   "cell_type": "code",
   "execution_count": 35,
   "metadata": {},
   "outputs": [
    {
     "name": "stdout",
     "output_type": "stream",
     "text": [
      "LogisticRegression accuracy mean is : 0.851764555997315\n",
      "LogisticRegression f1 mean is : 0.6574162649227585\n",
      "SVC accuracy mean is : 0.8395822074037045\n",
      "SVC f1 mean is : 0.6150577610294997\n",
      "Linear SVC accuracy mean is : 0.8524555994661561\n",
      "Linear SVC f1 mean is : 0.6559364561295021\n"
     ]
    }
   ],
   "source": [
    "cvs_lr_f1_enh = cross_val_score(pipe_lr_enh, X_train, y_train[14],scoring=\"f1\")\n",
    "cvs_lr_acc_enh = cross_val_score(pipe_lr_enh, X_train, y_train[14],scoring=\"accuracy\")\n",
    "\n",
    "cvs_svc_f1_enh = cross_val_score(pipe_svc_enh, X_train, y_train[14],scoring=\"f1\",n_jobs=4, cv=3)\n",
    "cvs_svc_acc_enh = cross_val_score(pipe_svc_enh, X_train, y_train[14],scoring=\"accuracy\",n_jobs=4, cv=3)\n",
    "\n",
    "cvs_l_svc_f1_enh = cross_val_score(pipe_l_svc_enh, X_train, y_train[14],scoring=\"f1\",n_jobs=4, cv=3)\n",
    "cvs_l_svc_acc_enh = cross_val_score(pipe_l_svc_enh, X_train, y_train[14],scoring=\"accuracy\",n_jobs=4,cv=3)\n",
    "\n",
    "print( f'LogisticRegression accuracy mean is : {cvs_lr_acc_enh.mean()}')\n",
    "print( f'LogisticRegression f1 mean is : {cvs_lr_f1_enh.mean()}')\n",
    "\n",
    "print( f'SVC accuracy mean is : {cvs_svc_acc_enh.mean()}')\n",
    "print( f'SVC f1 mean is : {cvs_svc_f1_enh.mean()}')\n",
    "\n",
    "print( f'Linear SVC accuracy mean is : {cvs_l_svc_acc_enh.mean()}')\n",
    "print( f'Linear SVC f1 mean is : {cvs_l_svc_f1_enh.mean()}')"
   ]
  },
  {
   "cell_type": "code",
   "execution_count": 36,
   "metadata": {},
   "outputs": [],
   "source": [
    "# score hasn't changed"
   ]
  },
  {
   "cell_type": "markdown",
   "metadata": {},
   "source": [
    "16. Посчитайте cross_val_score, если просто удалить значения '?'. Напишите как изменился результат"
   ]
  },
  {
   "cell_type": "code",
   "execution_count": 37,
   "metadata": {},
   "outputs": [],
   "source": [
    "import pandas as pd\n",
    "import numpy as np\n",
    "RANDOM_STATE = 42\n",
    "\n",
    "link = 'https://raw.githubusercontent.com/jbrownlee/Datasets/master/adult-all.csv'\n",
    "data = pd.read_csv(link, header=None)\n",
    "\n",
    "data_cls = data[data.eq(\"?\").any(axis=1) == False].copy(deep=True)"
   ]
  },
  {
   "cell_type": "code",
   "execution_count": 38,
   "metadata": {},
   "outputs": [
    {
     "data": {
      "text/plain": [
       "(45222, 15)"
      ]
     },
     "execution_count": 38,
     "metadata": {},
     "output_type": "execute_result"
    }
   ],
   "source": [
    "data_cls.shape"
   ]
  },
  {
   "cell_type": "code",
   "execution_count": 39,
   "metadata": {},
   "outputs": [],
   "source": [
    "from sklearn.model_selection import train_test_split\n",
    "\n",
    "cols = data_cls.columns\n",
    "X_cls = data_cls[cols[:-1]]\n",
    "y_cls = data_cls[cols[-1:]].applymap(lambda x: 0 if str(x) == \"<=50K\" else 1)\n",
    "\n",
    "X_train , X_test, y_train , y_test = train_test_split(X_cls, y_cls, test_size=0.2, random_state=RANDOM_STATE)\n"
   ]
  },
  {
   "cell_type": "code",
   "execution_count": 40,
   "metadata": {},
   "outputs": [],
   "source": [
    "int_cols_cls = []\n",
    "cat_cols_cls = []\n",
    "for i in X_cls.columns :\n",
    "    if X_cls[i].dtypes == 'int64' :\n",
    "        int_cols_cls.append(i)\n",
    "    else:\n",
    "        cat_cols_cls.append(i) "
   ]
  },
  {
   "cell_type": "code",
   "execution_count": 43,
   "metadata": {},
   "outputs": [],
   "source": [
    "from sklearn.svm import LinearSVC, SVC\n",
    "from sklearn.linear_model import LogisticRegression\n",
    "from sklearn.model_selection import cross_val_score\n",
    "from sklearn.pipeline import Pipeline\n",
    "from sklearn.compose import ColumnTransformer\n",
    "from sklearn.preprocessing import OneHotEncoder, MinMaxScaler\n",
    "from sklearn.impute import SimpleImputer\n",
    "\n",
    "\n",
    "imp_freq = SimpleImputer(missing_values=np.nan, strategy='most_frequent')\n",
    "\n",
    "ohe_scale = OneHotEncoder(handle_unknown='ignore')\n",
    "mm_scale = MinMaxScaler()\n",
    "ct_cls = ColumnTransformer([('int_t', mm_scale, int_cols_cls),('cat_t', ohe_scale , cat_cols_cls)])\n",
    "\n",
    "lr = LogisticRegression(max_iter=200, penalty=\"elasticnet\", solver=\"saga\", l1_ratio=0.5)\n",
    "l_svc = LinearSVC()\n",
    "svc = SVC()\n",
    "\n",
    "pipe_lr= Pipeline([('imp_freq', imp_freq),('ct', ct_cls),('lr', lr)])\n",
    "pipe_l_svc = Pipeline([('imp_freq', imp_freq),('ct', ct_cls),('l_svc', l_svc)])\n",
    "pipe_svc= Pipeline([('imp_freq', imp_freq),('ct', ct_cls),('svc', svc)])"
   ]
  },
  {
   "cell_type": "code",
   "execution_count": 45,
   "metadata": {},
   "outputs": [
    {
     "name": "stdout",
     "output_type": "stream",
     "text": [
      "LogisticRegression accuracy mean is : 0.8462836053931373\n",
      "LogisticRegression f1 mean is : 0.6557271370173845\n",
      "SVC accuracy mean is : 0.8344528291455897\n",
      "SVC f1 mean is : 0.6189288089503716\n",
      "Linear SVC accuracy mean is : 0.8466705365287336\n",
      "Linear SVC f1 mean is : 0.654709321521242\n"
     ]
    }
   ],
   "source": [
    "cvs_lr_f1_cls = cross_val_score(pipe_lr, X_train, y_train[14], scoring= 'f1')\n",
    "cvs_lr_acc_cls = cross_val_score(pipe_lr, X_train, y_train[14], scoring = 'accuracy')\n",
    "\n",
    "cvs_svc_f1_cls = cross_val_score(pipe_svc, X_train, y_train[14],scoring=\"f1\",n_jobs=4, cv=3)\n",
    "cvs_svc_acc_cls = cross_val_score(pipe_svc, X_train, y_train[14],scoring=\"accuracy\",n_jobs=4, cv=3)\n",
    "\n",
    "cvs_l_svc_f1_cls = cross_val_score(pipe_l_svc, X_train, y_train[14],scoring=\"f1\",n_jobs=4, cv=3)\n",
    "cvs_l_svc_acc_cls = cross_val_score(pipe_l_svc, X_train, y_train[14],scoring=\"accuracy\",n_jobs=4,cv=3)\n",
    "\n",
    "print( f'LogisticRegression accuracy mean is : {cvs_lr_acc_cls.mean()}')\n",
    "print( f'LogisticRegression f1 mean is : {cvs_lr_f1_cls.mean()}')\n",
    "\n",
    "print( f'SVC accuracy mean is : {cvs_svc_acc_cls.mean()}')\n",
    "print( f'SVC f1 mean is : {cvs_svc_f1_cls.mean()}')\n",
    "\n",
    "print( f'Linear SVC accuracy mean is : {cvs_l_svc_acc_cls.mean()}')\n",
    "print( f'Linear SVC f1 mean is : {cvs_l_svc_f1_cls.mean()}')"
   ]
  },
  {
   "cell_type": "markdown",
   "metadata": {},
   "source": [
    " 17. Посчитайте cross_val_score для RandomForestClassifier,GradientBoostingClassifier. Напишите как изменился результат и какой вывод можно из этого сделать."
   ]
  },
  {
   "cell_type": "code",
   "execution_count": 46,
   "metadata": {},
   "outputs": [],
   "source": [
    "from sklearn.ensemble import RandomForestClassifier , GradientBoostingClassifier\n",
    "\n",
    "rfc = RandomForestClassifier()\n",
    "gbc = GradientBoostingClassifier()"
   ]
  },
  {
   "cell_type": "code",
   "execution_count": 47,
   "metadata": {},
   "outputs": [],
   "source": [
    "pipe_rfc= Pipeline([('imp_freq', imp_freq),('ct', ct_cls),('rfc', rfc)])\n",
    "pipe_gbc = Pipeline([('imp_freq', imp_freq),('ct', ct_cls),('gbc', gbc)])"
   ]
  },
  {
   "cell_type": "code",
   "execution_count": 48,
   "metadata": {},
   "outputs": [
    {
     "name": "stdout",
     "output_type": "stream",
     "text": [
      "RandomForest accuracy mean is : 0.8489095281532465\n",
      "RandomForest f1 mean is : 0.6674716554602472\n",
      "GradienBoosting accuracy mean is : 0.862177626668878\n",
      "GradientBoosting f1 mean is : 0.6833578570282954\n"
     ]
    }
   ],
   "source": [
    "rfc_f1 = cross_val_score(pipe_rfc, X_train, y_train[14], scoring= 'f1', n_jobs=4, cv=3)\n",
    "rfc_acc = cross_val_score(pipe_rfc, X_train, y_train[14], scoring = 'accuracy', n_jobs=4, cv=3 )\n",
    "\n",
    "gbc_f1 = cross_val_score(pipe_gbc, X_train, y_train[14], scoring= 'f1', n_jobs=4, cv=3)\n",
    "gbc_acc = cross_val_score(pipe_gbc, X_train, y_train[14], scoring = 'accuracy', n_jobs=4, cv=3)\n",
    "\n",
    "print( f'RandomForest accuracy mean is : {rfc_acc.mean()}')\n",
    "print( f'RandomForest f1 mean is : {rfc_f1.mean()}')\n",
    "\n",
    "print( f'GradienBoosting accuracy mean is : {gbc_acc.mean()}')\n",
    "print( f'GradientBoosting f1 mean is : {gbc_f1.mean()}')"
   ]
  },
  {
   "cell_type": "markdown",
   "metadata": {},
   "source": [
    "18. Подберите наилучшую модель, подбирая методы обработки колонок - масштабирование признаков, кодирование признаков и заполнение пропусков. Параметры алгоритмов оставьте по умолчанию. Выведите итоговые параметры и результат accuracy и f1_score."
   ]
  },
  {
   "cell_type": "code",
   "execution_count": 52,
   "metadata": {},
   "outputs": [
    {
     "data": {
      "text/plain": [
       "{'ccp_alpha': 0.0,\n",
       " 'criterion': 'friedman_mse',\n",
       " 'init': None,\n",
       " 'learning_rate': 0.1,\n",
       " 'loss': 'log_loss',\n",
       " 'max_depth': 3,\n",
       " 'max_features': None,\n",
       " 'max_leaf_nodes': None,\n",
       " 'min_impurity_decrease': 0.0,\n",
       " 'min_samples_leaf': 1,\n",
       " 'min_samples_split': 2,\n",
       " 'min_weight_fraction_leaf': 0.0,\n",
       " 'n_estimators': 100,\n",
       " 'n_iter_no_change': None,\n",
       " 'random_state': None,\n",
       " 'subsample': 1.0,\n",
       " 'tol': 0.0001,\n",
       " 'validation_fraction': 0.1,\n",
       " 'verbose': 0,\n",
       " 'warm_start': False}"
      ]
     },
     "execution_count": 52,
     "metadata": {},
     "output_type": "execute_result"
    }
   ],
   "source": [
    "# from testing performed it seems that better results are achieved with \n",
    "# GadientBoostingClassifier .\n",
    "# \n",
    "# \n",
    "gbc.get_params()"
   ]
  },
  {
   "cell_type": "code",
   "execution_count": 57,
   "metadata": {},
   "outputs": [
    {
     "name": "stdout",
     "output_type": "stream",
     "text": [
      "GradienBoosting accuracy mean is : 0.862177626668878\n",
      "GradientBoosting f1 mean is : 0.6833578570282954\n"
     ]
    }
   ],
   "source": [
    "print( f'GradienBoosting accuracy mean is : {gbc_acc.mean()}')\n",
    "print( f'GradientBoosting f1 mean is : {gbc_f1.mean()}')"
   ]
  }
 ],
 "metadata": {
  "kernelspec": {
   "display_name": "Python 3.10.4 64-bit",
   "language": "python",
   "name": "python3"
  },
  "language_info": {
   "codemirror_mode": {
    "name": "ipython",
    "version": 3
   },
   "file_extension": ".py",
   "mimetype": "text/x-python",
   "name": "python",
   "nbconvert_exporter": "python",
   "pygments_lexer": "ipython3",
   "version": "3.10.6"
  },
  "vscode": {
   "interpreter": {
    "hash": "916dbcbb3f70747c44a77c7bcd40155683ae19c65e1c03b4aa3499c5328201f1"
   }
  }
 },
 "nbformat": 4,
 "nbformat_minor": 2
}
