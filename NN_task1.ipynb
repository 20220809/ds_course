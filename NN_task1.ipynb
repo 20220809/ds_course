{
  "nbformat": 4,
  "nbformat_minor": 0,
  "metadata": {
    "colab": {
      "provenance": [],
      "collapsed_sections": [],
      "toc_visible": true
    },
    "kernelspec": {
      "name": "python3",
      "display_name": "Python 3"
    },
    "language_info": {
      "name": "python"
    }
  },
  "cells": [
    {
      "cell_type": "code",
      "execution_count": 2,
      "metadata": {
        "colab": {
          "base_uri": "https://localhost:8080/"
        },
        "id": "DYnonqWTTjtj",
        "outputId": "2d1d14a1-d670-4dc7-bf15-b8bd208aafc1"
      },
      "outputs": [
        {
          "output_type": "execute_result",
          "data": {
            "text/plain": [
              "torch.Size([3])"
            ]
          },
          "metadata": {},
          "execution_count": 2
        }
      ],
      "source": [
        "import torch\n",
        "import numpy as np\n",
        "import torch.nn as nn\n",
        "\n",
        "\n",
        "tensor = torch.tensor([1, 2, 3]).float()\n",
        "\n",
        "tensor.size() # эквивалент tensor.shape\n",
        "#(3)"
      ]
    },
    {
      "cell_type": "code",
      "source": [
        "tensor.dim() # число измерений\n",
        "np.random.random()"
      ],
      "metadata": {
        "colab": {
          "base_uri": "https://localhost:8080/"
        },
        "id": "E7vsYAOm6FMO",
        "outputId": "dfda1c14-b839-4b33-ebf6-c27b42423927"
      },
      "execution_count": 3,
      "outputs": [
        {
          "output_type": "execute_result",
          "data": {
            "text/plain": [
              "0.09990183378511619"
            ]
          },
          "metadata": {},
          "execution_count": 3
        }
      ]
    },
    {
      "cell_type": "code",
      "source": [
        "zeros = torch.zeros((3,2,4)) #zeros.size() (3,2,4), zeros.dims() 3"
      ],
      "metadata": {
        "id": "K9bsYeyX6HCs"
      },
      "execution_count": 4,
      "outputs": []
    },
    {
      "cell_type": "code",
      "source": [
        "#скоринговая карта\n",
        "#xi = [1, 5, 5, 4]\n",
        "#batch = [xi] "
      ],
      "metadata": {
        "id": "1iqrhfmL6QH1"
      },
      "execution_count": 4,
      "outputs": []
    },
    {
      "cell_type": "code",
      "source": [
        "#задача 1 в домашке\n",
        "class MyLayer(nn.Module):\n",
        "    def __init__(self, tensor):\n",
        "        super().__init__()\n",
        "        self.params = nn.parameter.Parameter( Tensor = tensor, requires_grad = False)\n",
        "       \n",
        "    def forward(self, x):\n",
        "        return x * self.params\n",
        "\n",
        "    def backward(self, grad):\n",
        "        return tensor.backward(grad)"
      ],
      "metadata": {
        "id": "iFqsFhi26YIW"
      },
      "execution_count": 5,
      "outputs": []
    },
    {
      "cell_type": "code",
      "source": [
        "tensor.detach() #отсоединяет граф градиентов\n",
        "tensor.detach().numpy()\n",
        "torch.from_numpy(tensor.detach().numpy())\n",
        "device_id = -1\n",
        "device = 'cpu' if device_id == -1 else f'cuda:{device_id}' # 'cpu'\n",
        "tensor.to(device) # tensor.cuda()"
      ],
      "metadata": {
        "colab": {
          "base_uri": "https://localhost:8080/"
        },
        "id": "J5S1xaLU6qvv",
        "outputId": "6d8a4a3f-271c-459a-8139-d32849f5f9a9"
      },
      "execution_count": 9,
      "outputs": [
        {
          "output_type": "execute_result",
          "data": {
            "text/plain": [
              "tensor([1., 2., 3.])"
            ]
          },
          "metadata": {},
          "execution_count": 9
        }
      ]
    },
    {
      "cell_type": "code",
      "source": [
        "class SGDMomentum:\n",
        "    def __init__(self, model_weights, momentum: float=0.99, lr: float = 0.1):\n",
        "        self.momentum = momentum\n",
        "        self.lr = lr\n",
        "        self.velocity = torch.zeros_like(model_weights)\n",
        "        self.weights = model_weights\n",
        "\n",
        "    def step(self, grad):\n",
        "        self.velocity = self.momentum * self.velocity - self.lr * grad\n",
        "        self.weights = self.weights + self.velocity\n"
      ],
      "metadata": {
        "id": "PCTVdJsF65CZ"
      },
      "execution_count": 57,
      "outputs": []
    },
    {
      "cell_type": "code",
      "source": [
        "class RMSProp:\n",
        "    def __init__(self, model_weights, beta1: float=np.random.random(), \n",
        "                 beta2: float=np.random.random(), lr: float = np.random.random()/100):\n",
        "        self.beta1 = beta1\n",
        "        self.beta2 = beta2\n",
        "        self.lr = lr\n",
        "        self.velocity = torch.ones_like(model_weights)\n",
        "        self.accumulated = torch.ones_like(model_weights)\n",
        "        self.weights = model_weights\n",
        "\n",
        "    def step(self, grad):\n",
        "        self.velocity = self.beta1 * self.velocity + (1 - self.beta1) * grad\n",
        "        self.accumulated = self.beta2 * self.accumulated + (1 - self.beta2) * grad ** 2\n",
        "        self.adapt_lr = self.lr / self.accumulated.sqrt() \n",
        "        self.weights = self.weights - self.adapt_lr * self.velocity\n"
      ],
      "metadata": {
        "id": "YBdE51ko68c6"
      },
      "execution_count": 64,
      "outputs": []
    },
    {
      "cell_type": "code",
      "source": [
        "#поиск корней для функции  (3*x**2 - 7*x + 1)\n",
        "\n",
        "def func(x):\n",
        "  #возводим в квадрат, чтобы корни стали минимумами\n",
        "  return (3*x**2 - 7*x + 1)**2\n",
        "\n",
        "\n",
        "\n",
        "def grad(x):\n",
        "  #градиент модифицированной функции.\n",
        "  return 2*(3*x**2 - 7*x + 1)*(6*x - 7)\n",
        "\n"
      ],
      "metadata": {
        "id": "kt_sMAjtkzrZ"
      },
      "execution_count": 73,
      "outputs": []
    },
    {
      "cell_type": "code",
      "source": [
        "#поиск точки экстремума на отрезке \n",
        "def extr_point(grad, x_range, acc):\n",
        "  #grad - gradient func\n",
        "  #x_range - range of the argument\n",
        "  #acc - accuracy of the extrememum point\n",
        "  ep = x_range[0]\n",
        "  while ep < x_range[1]:\n",
        "    if grad(ep)*grad(ep+acc) < 0:\n",
        "      return ep + acc/2\n",
        "    ep += acc\n",
        "  return 'No extremum in this range'\n",
        "\n",
        "  "
      ],
      "metadata": {
        "id": "JGDYAYIfoSk6"
      },
      "execution_count": 44,
      "outputs": []
    },
    {
      "cell_type": "code",
      "source": [
        "print(extr_point(grad,(-3.5,2.5),0.00001))"
      ],
      "metadata": {
        "colab": {
          "base_uri": "https://localhost:8080/"
        },
        "id": "9UOxRxMHq_rs",
        "outputId": "08cd061b-7d3a-455e-ffdc-3cbe44447e1c"
      },
      "execution_count": 95,
      "outputs": [
        {
          "output_type": "stream",
          "name": "stdout",
          "text": [
            "0.15287500001447382\n"
          ]
        }
      ]
    },
    {
      "cell_type": "code",
      "source": [
        "def find_root(init_x):\n",
        "  x = torch.tensor(init_x)\n",
        "  g = grad(x)\n",
        "  optim = RMSProp(x, lr=20)\n",
        "  for i in range(100):\n",
        "    prev = optim.weights\n",
        "    optim.step(g)\n",
        "    curr = optim.weights\n",
        "    g = grad(optim.weights)\n",
        "    if abs(func(curr) - func(prev)) < 0.01:\n",
        "      return (optim.weights)\n",
        "  return('NA')"
      ],
      "metadata": {
        "id": "cRrGhVHAs-YG"
      },
      "execution_count": 145,
      "outputs": []
    },
    {
      "cell_type": "code",
      "source": [
        "def solver(x):\n",
        "  print('1st root : ' + str(find_root(x).numpy()))\n",
        "  print('2nd root : ' + str(find_root(-x).numpy()))\n",
        "  return 'The End'"
      ],
      "metadata": {
        "id": "hSmYeWYo9xKu"
      },
      "execution_count": 146,
      "outputs": []
    },
    {
      "cell_type": "code",
      "source": [
        "solver(100)"
      ],
      "metadata": {
        "colab": {
          "base_uri": "https://localhost:8080/",
          "height": 70
        },
        "id": "qiLDj5NAxYMc",
        "outputId": "7e19c5b5-2b9e-470a-f1a1-5f7643a33dda"
      },
      "execution_count": 148,
      "outputs": [
        {
          "output_type": "stream",
          "name": "stdout",
          "text": [
            "1st root : 2.1968145\n",
            "2nd root : 0.14757882\n"
          ]
        },
        {
          "output_type": "execute_result",
          "data": {
            "text/plain": [
              "'The End'"
            ],
            "application/vnd.google.colaboratory.intrinsic+json": {
              "type": "string"
            }
          },
          "metadata": {},
          "execution_count": 148
        }
      ]
    },
    {
      "cell_type": "code",
      "source": [
        "#Сходимость сильно зависит от стартовой точки и параметров оптимизатора."
      ],
      "metadata": {
        "id": "vyrzXU_7_2J9"
      },
      "execution_count": null,
      "outputs": []
    }
  ]
}