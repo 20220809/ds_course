{
 "cells": [
  {
   "cell_type": "markdown",
   "metadata": {
    "collapsed": false,
    "pycharm": {
     "name": "#%% md\n"
    }
   },
   "source": [
    "[![Open In Colab](https://colab.research.google.com/assets/colab-badge.svg)](https://colab.research.google.com/github/ds-reboot/python-first-part/blob/main/notebooks/hometasks/Task2_dmrf_visual.ipynb)"
   ]
  },
  {
   "cell_type": "markdown",
   "metadata": {
    "collapsed": false,
    "pycharm": {
     "name": "#%% md\n"
    }
   },
   "source": [
    "# Задание\n",
    "* Собрать информацию о всех строящихся объектах на сайте \"наш.дом.рф\"\n",
    "* Cохранить результаты в pandas dataframe\n",
    "<hr>\n",
    "\n",
    "* Проверить состояние датафрейма и привести его в формат, позволяющий дальнейшее исследование данных:\n",
    "-- Привести колонки датафрейма к одному типу данных\n",
    "-- Проверить индекс, чтобы он соответствовал порядку строк\n",
    "-- Проверить наличие пропусков и в случае обнаружения, определить стратегию их обработки\n",
    "<hr>\n",
    "\n",
    "* Провести мини-исследование рынка строящейся недвижимости в одном или нескольких регионах с помощью pandas, matplotlib, seaborn, plotly и других инструментов.\n",
    "-- Рассчитать средние цены за квадратный метр по регионам. Важно чтобы пропуски не учитывались при расчете средней цены.\n",
    "-- Рассчитать объемы вводимого жилья по регионам и по годам.\n",
    "-- Сравнить этажность домов, количество квартир, жилую площадь, количество парковочных мест и цену за квадратный метр в разных регионах\n",
    "-- Визуализировать разброс, связь и распределение этих показателей по регионам\n",
    "-- Сделать выводы по каждому из расчетов и графиков\n",
    "\n"
   ]
  },
  {
   "cell_type": "code",
   "execution_count": 1,
   "metadata": {
    "collapsed": false,
    "pycharm": {
     "name": "#%%\n"
    }
   },
   "outputs": [],
   "source": [
    "import pandas as pd\n",
    "import requests"
   ]
  },
  {
   "cell_type": "markdown",
   "metadata": {
    "collapsed": false,
    "pycharm": {
     "name": "#%% md\n"
    }
   },
   "source": [
    "## Список объектов"
   ]
  },
  {
   "cell_type": "code",
   "execution_count": 2,
   "metadata": {},
   "outputs": [
    {
     "name": "stdout",
     "output_type": "stream",
     "text": [
      "loaded : 11000 records\n"
     ]
    }
   ],
   "source": [
    "#начальное смещение\n",
    "offset_ = 0\n",
    "\n",
    "#кол-во записей для загрузки за один запрос\n",
    "limit_ = 1000\n",
    "\n",
    "res = []\n",
    "#загружаем частями все id объектов и формируем результирующий список\n",
    "while 1==1: \n",
    "    url = f'https://xn--80az8a.xn--d1aqf.xn--p1ai/%D1%81%D0%B5%D1%80%D0%B2%D0%B8%D1%81%D1%8B/api/kn/object?offset={offset_}&limit={limit_}&sortField=devId.devShortCleanNm&sortType=asc&objStatus=0'\n",
    "    temp = requests.get(url).json().get('data').get('list')\n",
    "    \n",
    "    if len(temp) :        \n",
    "        objids = [x.get('objId') for x in temp]\n",
    "        res += objids\n",
    "        offset_ += limit_\n",
    "    else:\n",
    "        print('loaded : ' + str(offset_) + ' records')\n",
    "        break"
   ]
  },
  {
   "cell_type": "code",
   "execution_count": 18,
   "metadata": {},
   "outputs": [],
   "source": [
    "#Загрузка данных по списку объектов\n",
    "\n",
    "objlist = []\n",
    "cnt = 0\n",
    "for el in res:\n",
    "    url = f'https://xn--80az8a.xn--d1aqf.xn--p1ai/%D1%81%D0%B5%D1%80%D0%B2%D0%B8%D1%81%D1%8B/api/object/{el}'\n",
    "    x = requests.get(url).json().get('data')\n",
    "    objlist.append(x)\n",
    "\n",
    "\n",
    "df = pd.concat([ pd.json_normalize(i) for i in objlist], ignore_index=True)"
   ]
  },
  {
   "cell_type": "code",
   "execution_count": 21,
   "metadata": {},
   "outputs": [],
   "source": [
    "#выгрузим в pickle\n",
    "df.to_pickle('./house_data.pkl')"
   ]
  },
  {
   "cell_type": "markdown",
   "metadata": {},
   "source": [
    "## Обработка датафрейма и выбор колонок для анализа"
   ]
  },
  {
   "cell_type": "code",
   "execution_count": null,
   "metadata": {},
   "outputs": [],
   "source": [
    "#объекты были сохранены ранее \n",
    "#достаем из сохраненного файлв датафрейм\n",
    "df = pd.read_pickle('house_data.pkl')"
   ]
  },
  {
   "cell_type": "code",
   "execution_count": 117,
   "metadata": {},
   "outputs": [],
   "source": [
    "#  выберем колонки по которым будем проводить исследование\n",
    "col_for_analize = ['region',\n",
    "                    'objElemLivingCnt', \n",
    "                    'objReady100PercDt', \n",
    "                    'objElemParkingCnt',\n",
    "                    'objSquareLiving', \n",
    "                    'objFlatCnt', \n",
    "                    'objFlatSq', \n",
    "                    'objFloorCnt', \n",
    "                    'soldOutPerc',\n",
    "                    'objPriceAvg',\n",
    "                    ]"
   ]
  },
  {
   "cell_type": "code",
   "execution_count": 96,
   "metadata": {},
   "outputs": [],
   "source": [
    "df1 = df[col_for_analize]"
   ]
  },
  {
   "cell_type": "code",
   "execution_count": 99,
   "metadata": {},
   "outputs": [],
   "source": [
    "# стратегия заполнения пропущенных значений. заполним нулями\n",
    "df1 = df1.fillna(0)"
   ]
  },
  {
   "cell_type": "code",
   "execution_count": 103,
   "metadata": {},
   "outputs": [],
   "source": [
    "# приведем типы колонок к единому формату .  для даты 100 процентой готовности укадем дату\n",
    "col_types = {'region' : 'int32' ,\n",
    "             'objElemLivingCnt' : 'int32' ,\n",
    "             'objReady100PercDt' : 'datetime64', \n",
    "             'objElemParkingCnt' : 'int32',\n",
    "             'objSquareLiving' : 'float64', \n",
    "             'objFlatCnt' : 'int32', \n",
    "             'objFlatSq' : 'float64', \n",
    "             'objFloorCnt' : 'int32', \n",
    "             'soldOutPerc' : 'float64',\n",
    "             'objPriceAvg' : 'float64'\n",
    "             }\n",
    "             \n",
    "df1 = df1.astype(col_types)"
   ]
  },
  {
   "cell_type": "code",
   "execution_count": 223,
   "metadata": {},
   "outputs": [],
   "source": [
    "# дабавим несколько колонок \n",
    "\n",
    "df1['ready_year'] = df1['objReady100PercDt'].apply( lambda x : x.year)\n",
    "df1['avg_sqr'] = df1['objFlatSq'] / df1['objFlatCnt']"
   ]
  },
  {
   "cell_type": "markdown",
   "metadata": {},
   "source": [
    "## Исследование и анализ датафрейма"
   ]
  },
  {
   "cell_type": "code",
   "execution_count": 120,
   "metadata": {
    "collapsed": false,
    "pycharm": {
     "name": "#%%\n"
    }
   },
   "outputs": [],
   "source": [
    "import matplotlib.pyplot as plt\n",
    "import seaborn as sns"
   ]
  },
  {
   "cell_type": "code",
   "execution_count": 133,
   "metadata": {},
   "outputs": [],
   "source": [
    "#расчет средней цены по регионам\n",
    "\n",
    "avg_price = df1.where(df1['objPriceAvg'] > 0)[['region', 'objPriceAvg']].groupby('objPriceAvg').agg('mean')"
   ]
  },
  {
   "cell_type": "code",
   "execution_count": 146,
   "metadata": {},
   "outputs": [],
   "source": [
    "avg_price = df1[df1['objPriceAvg'] > 0][['region', 'objPriceAvg']].groupby('objPriceAvg').agg('mean')"
   ]
  },
  {
   "cell_type": "code",
   "execution_count": 225,
   "metadata": {},
   "outputs": [],
   "source": [
    "df2 = df1[df1['objPriceAvg'] > 0]"
   ]
  },
  {
   "cell_type": "code",
   "execution_count": 226,
   "metadata": {},
   "outputs": [
    {
     "name": "stderr",
     "output_type": "stream",
     "text": [
      "/tmp/ipykernel_146052/1708171405.py:1: SettingWithCopyWarning: \n",
      "A value is trying to be set on a copy of a slice from a DataFrame.\n",
      "Try using .loc[row_indexer,col_indexer] = value instead\n",
      "\n",
      "See the caveats in the documentation: https://pandas.pydata.org/pandas-docs/stable/user_guide/indexing.html#returning-a-view-versus-a-copy\n",
      "  df2['objProce'] = df2['objPriceAvg'] * df2['objFlatSq']\n"
     ]
    }
   ],
   "source": [
    "df2['objProce'] = df2['objPriceAvg'] * df2['objFlatSq']"
   ]
  },
  {
   "cell_type": "code",
   "execution_count": 227,
   "metadata": {},
   "outputs": [],
   "source": [
    "df3 = df2[['region','objFlatSq','objProce']].groupby(['region']).aggregate({'objFlatSq' : 'sum', 'objProce' : 'sum'})"
   ]
  },
  {
   "cell_type": "code",
   "execution_count": 172,
   "metadata": {},
   "outputs": [],
   "source": [
    "%matplotlib inline\n"
   ]
  },
  {
   "cell_type": "code",
   "execution_count": 205,
   "metadata": {},
   "outputs": [
    {
     "data": {
      "image/png": "[encoded data removed]",
      "text/plain": [
       "<Figure size 576x864 with 1 Axes>"
      ]
     },
     "metadata": {
      "needs_background": "light"
     },
     "output_type": "display_data"
    }
   ],
   "source": [
    "\n",
    "plt.rcParams.update({'figure.autolayout': True})\n",
    "fig , ax = plt.subplots(figsize = (8,12))\n",
    "\n",
    "for_bar = (df3['objProce'] / df3['objFlatSq'])\n",
    "\n",
    "cat = [ str(x) for x in for_bar.index ]\n",
    "\n",
    "plt.barh( cat , for_bar.values , height=0.3 )\n",
    "plt.show()"
   ]
  },
  {
   "cell_type": "code",
   "execution_count": 229,
   "metadata": {},
   "outputs": [],
   "source": [
    "# ввод жилья по регионам .\n",
    "by_year = df2[['ready_year','objSquareLiving']].groupby(['ready_year']).agg('sum')"
   ]
  },
  {
   "cell_type": "code",
   "execution_count": 233,
   "metadata": {},
   "outputs": [],
   "source": [
    "x_ticks = [ str(x) for x in by_year.index ]"
   ]
  },
  {
   "cell_type": "code",
   "execution_count": 238,
   "metadata": {},
   "outputs": [
    {
     "data": {
      "text/plain": [
       "<BarContainer object of 15 artists>"
      ]
     },
     "execution_count": 238,
     "metadata": {},
     "output_type": "execute_result"
    },
    {
     "data": {
      "image/png": "[encoded data removed]",
      "text/plain": [
       "<Figure size 432x288 with 1 Axes>"
      ]
     },
     "metadata": {
      "needs_background": "light"
     },
     "output_type": "display_data"
    }
   ],
   "source": [
    "plt.bar(x_ticks, by_year['objSquareLiving'])"
   ]
  },
  {
   "cell_type": "code",
   "execution_count": null,
   "metadata": {},
   "outputs": [],
   "source": []
  },
  {
   "cell_type": "markdown",
   "metadata": {},
   "source": [
    "## Выводы \n",
    "### Самые высокие цены  77, 78 регионы\n",
    "### Пик ввода жилья придется на 2023 год"
   ]
  }
 ],
 "metadata": {
  "kernelspec": {
   "display_name": "Python 3.10.4 64-bit",
   "language": "python",
   "name": "python3"
  },
  "language_info": {
   "codemirror_mode": {
    "name": "ipython",
    "version": 3
   },
   "file_extension": ".py",
   "mimetype": "text/x-python",
   "name": "python",
   "nbconvert_exporter": "python",
   "pygments_lexer": "ipython3",
   "version": "3.10.4"
  },
  "vscode": {
   "interpreter": {
    "hash": "916dbcbb3f70747c44a77c7bcd40155683ae19c65e1c03b4aa3499c5328201f1"
   }
  }
 },
 "nbformat": 4,
 "nbformat_minor": 0
}
