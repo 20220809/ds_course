{
  "cells": [
    {
      "cell_type": "markdown",
      "metadata": {
        "id": "dH7qx_irU4Y8"
      },
      "source": [
        "###ML1_1: \n",
        "https://www.hackerrank.com/challenges/capturing-non-capturing-groups/problem?isFullScreen=true\n",
        "\n",
        "###ML1_2: \n",
        "https://www.hackerrank.com/challenges/branch-reset-groups/problem?isFullScreen=true\n",
        "\n",
        "###ML1_3: \n",
        "https://www.hackerrank.com/challenges/detect-html-links/problem?isFullScreen=true\n",
        "\n",
        "###ML1_4: Реализовать stemming, lemmatization & BoW на следующем датасете: https://cloud.mail.ru/public/Z4L3/vB8GcgTtK (Russian Toxic-abuse comments)"
      ]
    },
    {
      "cell_type": "code",
      "execution_count": 2,
      "metadata": {
        "id": "xJfkstKpqsXp"
      },
      "outputs": [],
      "source": [
        "#ML1_1\n",
        "'''You have a test String .\n",
        "Your task is to write a regex which will match  with the following condition:\n",
        "\n",
        " S should have  3 or more consecutive repetitions of ok.'''\n",
        "import re\n",
        "\n",
        "regex_1 = r'(ok){2}(ok)+'"
      ]
    },
    {
      "cell_type": "code",
      "execution_count": 95,
      "metadata": {},
      "outputs": [],
      "source": [
        "match_1 = re.search(regex_1,'Okidokokokoki')\n",
        "match_1[0]"
      ]
    },
    {
      "cell_type": "code",
      "execution_count": 199,
      "metadata": {},
      "outputs": [],
      "source": [
        "#ML1-2\n",
        "''' S consists of 8 digits.\n",
        "    S must have \"---\", \"-\", \".\" or \":\" separator such that string  gets divided in  parts, with each part having exactly two digits.\n",
        "    S string must have exactly one kind of separator.\n",
        "    Separators must have integers on both sides.'''\n",
        "\n",
        "regex_2 = r'^(\\d){2}((-{3})|(-)|(.)|(:))(\\d){2}\\2(\\d){2}\\2(\\d){2}$'"
      ]
    },
    {
      "cell_type": "code",
      "execution_count": 208,
      "metadata": {},
      "outputs": [
        {
          "data": {
            "text/plain": [
              "'11---12---13---14'"
            ]
          },
          "execution_count": 208,
          "metadata": {},
          "output_type": "execute_result"
        }
      ],
      "source": [
        "match_2 = re.search(regex_2,'11---12---13---14')\n",
        "match_2[0]"
      ]
    },
    {
      "cell_type": "code",
      "execution_count": null,
      "metadata": {},
      "outputs": [],
      "source": [
        "#ML1-3\n",
        "n = int(input())\n",
        "inp_str = []\n",
        "for i in range(n):\n",
        "    inp_str.append(str(input()))"
      ]
    },
    {
      "cell_type": "code",
      "execution_count": 2,
      "metadata": {},
      "outputs": [],
      "source": [
        "#ML1-3\n",
        "import re\n",
        "\n",
        "link_reg = r'(?<=<a href=\")(.)+?\\\"'\n",
        "name_reg = r'>[^<>]+?<'\n",
        "\n",
        "\n",
        "for el in inp_str:\n",
        "    start = 0\n",
        "    while True:\n",
        "        if re.search(link_reg,el[start:]) is not None:\n",
        "            match_link = re.search(link_reg,el[start:])\n",
        "            start += match_link.span(0)[1]\n",
        "            if re.search(name_reg,el[start:]) is not None:\n",
        "                match_name = re.search(name_reg,el[start:])\n",
        "                start += match_name.span(0)[1]\n",
        "                if len(match_name[0]) > 2:\n",
        "                    print(match_link[0][:-1].strip()+','+ match_name[0][1:-1].strip())\n",
        "                else:\n",
        "                    print(match_link[0][:-1].strip()+',')\n",
        "            else:\n",
        "                print(match_link[0][:-1].strip()+',')\n",
        "        else:\n",
        "            break"
      ]
    }
  ],
  "metadata": {
    "colab": {
      "name": "NLP1_homework",
      "provenance": [],
      "toc_visible": true
    },
    "kernelspec": {
      "display_name": "Python 3.10.6 64-bit",
      "language": "python",
      "name": "python3"
    },
    "language_info": {
      "codemirror_mode": {
        "name": "ipython",
        "version": 3
      },
      "file_extension": ".py",
      "mimetype": "text/x-python",
      "name": "python",
      "nbconvert_exporter": "python",
      "pygments_lexer": "ipython3",
      "version": "3.10.6"
    },
    "vscode": {
      "interpreter": {
        "hash": "916dbcbb3f70747c44a77c7bcd40155683ae19c65e1c03b4aa3499c5328201f1"
      }
    }
  },
  "nbformat": 4,
  "nbformat_minor": 0
}
